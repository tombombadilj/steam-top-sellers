{
 "cells": [
  {
   "cell_type": "code",
   "execution_count": 762,
   "metadata": {
    "collapsed": false
   },
   "outputs": [],
   "source": [
    "import pandas as pd\n",
    "import numpy as np\n",
    "import re"
   ]
  },
  {
   "cell_type": "code",
   "execution_count": 763,
   "metadata": {
    "collapsed": false
   },
   "outputs": [],
   "source": [
    "steam = pd.read_csv(\"/Users/jasonchiu0803/Desktop/data_bootcamp/Python Introduction/steam_all/steam_all_new.csv\")"
   ]
  },
  {
   "cell_type": "code",
   "execution_count": 764,
   "metadata": {
    "collapsed": false
   },
   "outputs": [],
   "source": [
    "steam1 = steam"
   ]
  },
  {
   "cell_type": "code",
   "execution_count": 765,
   "metadata": {
    "collapsed": false
   },
   "outputs": [
    {
     "data": {
      "text/plain": [
       "(7548, 17)"
      ]
     },
     "execution_count": 765,
     "metadata": {},
     "output_type": "execute_result"
    }
   ],
   "source": [
    "steam1.shape"
   ]
  },
  {
   "cell_type": "code",
   "execution_count": 766,
   "metadata": {
    "collapsed": false
   },
   "outputs": [
    {
     "data": {
      "text/plain": [
       "Index([u'main_link', u'no_user', u'title', u'url', u'mother_node', u'app_id',\n",
       "       u'publish', u'user_rating', u'keywords', u'Rdate', u'critics_review',\n",
       "       u'genre', u'list_title', u'desc', u'type', u'no_links', u'game_spcs'],\n",
       "      dtype='object')"
      ]
     },
     "execution_count": 766,
     "metadata": {},
     "output_type": "execute_result"
    }
   ],
   "source": [
    "steam1.columns"
   ]
  },
  {
   "cell_type": "code",
   "execution_count": 767,
   "metadata": {
    "collapsed": false
   },
   "outputs": [
    {
     "data": {
      "text/plain": [
       "'\\r\\n\\t\\t\\t\\t\\t\\t\\t\\t\\t\\t\\t\\t- 79% of the 3,678 user reviews for this game are positive.\\t\\t\\t\\t\\t\\t\\t\\t\\t\\t\\t'"
      ]
     },
     "execution_count": 767,
     "metadata": {},
     "output_type": "execute_result"
    }
   ],
   "source": [
    "steam1[\"no_user\"][0]"
   ]
  },
  {
   "cell_type": "code",
   "execution_count": 768,
   "metadata": {
    "collapsed": false
   },
   "outputs": [],
   "source": [
    "steam1[\"no_user\"] = steam1[\"no_user\"].str.strip()"
   ]
  },
  {
   "cell_type": "code",
   "execution_count": 769,
   "metadata": {
    "collapsed": false
   },
   "outputs": [],
   "source": [
    "#grabbing percentage of positive reviews\n",
    "steam1[\"percent\"] = steam1[\"no_user\"].str.extract(\"- (\\d{2,3})\\% .+\")"
   ]
  },
  {
   "cell_type": "code",
   "execution_count": 770,
   "metadata": {
    "collapsed": false
   },
   "outputs": [],
   "source": [
    "steam1[\"percent\"] = pd.to_numeric(steam1[\"percent\"])"
   ]
  },
  {
   "cell_type": "code",
   "execution_count": 771,
   "metadata": {
    "collapsed": false
   },
   "outputs": [],
   "source": [
    "#grabbing number of reviews\n",
    "steam1[\"reivew_users\"]=pd.to_numeric(steam1[\"no_user\"].str.extract(\"- \\d{2,3}\\% of the (.+) user .+\").str.replace(\",\",\"\"))"
   ]
  },
  {
   "cell_type": "code",
   "execution_count": 772,
   "metadata": {
    "collapsed": false
   },
   "outputs": [],
   "source": [
    "#construct a keyword list without extra spaces and lines\n",
    "for i in range(steam1.shape[0]):\n",
    "    steam1.loc[i,\"keywords_list\"] = ', '.join(map(lambda x: x.strip(),str(steam1[\"keywords\"][i]).split(\",\")))"
   ]
  },
  {
   "cell_type": "code",
   "execution_count": 773,
   "metadata": {
    "collapsed": false
   },
   "outputs": [
    {
     "data": {
      "text/plain": [
       "None                    4606\n",
       "Downloadable Content    2920\n",
       "not_found                 22\n",
       "Name: type, dtype: int64"
      ]
     },
     "execution_count": 773,
     "metadata": {},
     "output_type": "execute_result"
    }
   ],
   "source": [
    "steam1[\"type\"].value_counts()"
   ]
  },
  {
   "cell_type": "code",
   "execution_count": 775,
   "metadata": {
    "collapsed": false
   },
   "outputs": [],
   "source": [
    "#checking if mother game differs from title - these should match with DLC and other type\n",
    "for i in range(steam1.shape[0]):\n",
    "    if steam1.loc[i,\"title\"] != steam1.loc[i,\"mother_node\"]:\n",
    "        steam1.loc[i,\"sub\"] = 1"
   ]
  },
  {
   "cell_type": "code",
   "execution_count": 789,
   "metadata": {
    "collapsed": false
   },
   "outputs": [],
   "source": [
    "for i in range(steam1.shape[0]):\n",
    "    if (steam1.loc[i,\"sub\"] == 1)&(steam1.loc[i,\"type\"]!=\"Downloadable Content\"):\n",
    "        steam1.loc[i,\"dlc_notsub\"] = 1"
   ]
  },
  {
   "cell_type": "code",
   "execution_count": 799,
   "metadata": {
    "collapsed": false
   },
   "outputs": [
    {
     "data": {
      "text/plain": [
       "Very Positive              2054\n",
       "Positive                   1000\n",
       "Mostly Positive             952\n",
       "Overwhelmingly Positive     244\n",
       "Name: user_rating, dtype: int64"
      ]
     },
     "execution_count": 799,
     "metadata": {},
     "output_type": "execute_result"
    }
   ],
   "source": [
    "steam1[\"user_rating\"].value_counts()"
   ]
  },
  {
   "cell_type": "code",
   "execution_count": 783,
   "metadata": {
    "collapsed": false
   },
   "outputs": [],
   "source": [
    "#assign not-found to NaN\n",
    "steam1.replace(\"not-found\",np.NaN, inplace=True)"
   ]
  },
  {
   "cell_type": "code",
   "execution_count": 800,
   "metadata": {
    "collapsed": false
   },
   "outputs": [],
   "source": [
    "#breaking genre list\n",
    "for i in range(steam1.shape[0]):\n",
    "    steam1.loc[i,\"genre_list\"] = \", \".join(list(set(str(steam1[\"genre\"][i]).split(\",\"))^set(str(steam1[\"publish\"][i]).split(\",\"))))"
   ]
  },
  {
   "cell_type": "code",
   "execution_count": 801,
   "metadata": {
    "collapsed": false
   },
   "outputs": [
    {
     "data": {
      "text/plain": [
       "(7548, 24)"
      ]
     },
     "execution_count": 801,
     "metadata": {},
     "output_type": "execute_result"
    }
   ],
   "source": [
    "steam1.shape"
   ]
  },
  {
   "cell_type": "code",
   "execution_count": 826,
   "metadata": {
    "collapsed": false
   },
   "outputs": [
    {
     "data": {
      "text/plain": [
       "None                    4606\n",
       "Downloadable Content    2920\n",
       "not_found                 22\n",
       "Name: type, dtype: int64"
      ]
     },
     "execution_count": 826,
     "metadata": {},
     "output_type": "execute_result"
    }
   ],
   "source": [
    "steam1[\"type\"].value_counts()"
   ]
  },
  {
   "cell_type": "code",
   "execution_count": 828,
   "metadata": {
    "collapsed": false
   },
   "outputs": [],
   "source": [
    "#excluding genre and other out - they will be added later on\n",
    "a = steam1[(steam1[\"type\"]==\"None\")].groupby(\"mother_node\").first().reset_index()"
   ]
  },
  {
   "cell_type": "code",
   "execution_count": 834,
   "metadata": {
    "collapsed": false
   },
   "outputs": [
    {
     "data": {
      "text/plain": [
       "(4573, 24)"
      ]
     },
     "execution_count": 834,
     "metadata": {},
     "output_type": "execute_result"
    }
   ],
   "source": [
    "a.shape"
   ]
  },
  {
   "cell_type": "code",
   "execution_count": 836,
   "metadata": {
    "collapsed": false
   },
   "outputs": [],
   "source": [
    "a.rename(columns={\"title\":\"title_steam\"},inplace=True)"
   ]
  },
  {
   "cell_type": "code",
   "execution_count": 843,
   "metadata": {
    "collapsed": true
   },
   "outputs": [],
   "source": [
    "#creating a database to count the number of DLCs\n",
    "downloadable = steam1.loc[steam1[\"type\"]==\"Downloadable Content\"]"
   ]
  },
  {
   "cell_type": "code",
   "execution_count": 844,
   "metadata": {
    "collapsed": false
   },
   "outputs": [
    {
     "data": {
      "text/plain": [
       "Downloadable Content    2920\n",
       "Name: type, dtype: int64"
      ]
     },
     "execution_count": 844,
     "metadata": {},
     "output_type": "execute_result"
    }
   ],
   "source": [
    "downloadable['type'].value_counts()"
   ]
  },
  {
   "cell_type": "code",
   "execution_count": 845,
   "metadata": {
    "collapsed": false
   },
   "outputs": [
    {
     "data": {
      "text/plain": [
       "Index([u'main_link', u'no_user', u'title', u'url', u'mother_node', u'app_id',\n",
       "       u'publish', u'user_rating', u'keywords', u'Rdate', u'critics_review',\n",
       "       u'genre', u'list_title', u'desc', u'type', u'no_links', u'game_spcs',\n",
       "       u'percent', u'reivew_users', u'keywords_list', u'sub', u'genre_list',\n",
       "       u'dlc_sub', u'dlc_notsub'],\n",
       "      dtype='object')"
      ]
     },
     "execution_count": 845,
     "metadata": {},
     "output_type": "execute_result"
    }
   ],
   "source": [
    "downloadable.columns"
   ]
  },
  {
   "cell_type": "code",
   "execution_count": 847,
   "metadata": {
    "collapsed": false
   },
   "outputs": [],
   "source": [
    "dlc_count = downloadable[[\"title\",\"mother_node\"]].groupby(\"mother_node\").agg([\"count\"])"
   ]
  },
  {
   "cell_type": "code",
   "execution_count": 851,
   "metadata": {
    "collapsed": false
   },
   "outputs": [],
   "source": [
    "dlc_count1 = dlc_count.reset_index()"
   ]
  },
  {
   "cell_type": "code",
   "execution_count": 852,
   "metadata": {
    "collapsed": true
   },
   "outputs": [],
   "source": [
    "#making sure that there is no repating values\n",
    "dlc_count1.columns = dlc_count1.columns.get_level_values(0)"
   ]
  },
  {
   "cell_type": "code",
   "execution_count": 860,
   "metadata": {
    "collapsed": false
   },
   "outputs": [],
   "source": [
    "dlc_count1.rename(columns={'title':'no_dlc'}, inplace=True)\n",
    "dlc_count1.rename(columns={'mother_node':'mother_dlc'}, inplace=True)"
   ]
  },
  {
   "cell_type": "code",
   "execution_count": 861,
   "metadata": {
    "collapsed": false
   },
   "outputs": [
    {
     "data": {
      "text/plain": [
       "Index([u'mother_dlc', u'no_dlc'], dtype='object')"
      ]
     },
     "execution_count": 861,
     "metadata": {},
     "output_type": "execute_result"
    }
   ],
   "source": [
    "dlc_count1.columns"
   ]
  },
  {
   "cell_type": "code",
   "execution_count": 862,
   "metadata": {
    "collapsed": false
   },
   "outputs": [
    {
     "data": {
      "text/plain": [
       "(744, 2)"
      ]
     },
     "execution_count": 862,
     "metadata": {},
     "output_type": "execute_result"
    }
   ],
   "source": [
    "dlc_count1.shape"
   ]
  },
  {
   "cell_type": "code",
   "execution_count": 864,
   "metadata": {
    "collapsed": false
   },
   "outputs": [
    {
     "data": {
      "text/plain": [
       "Index([u'mother_node', u'main_link', u'no_user', u'title_steam', u'url',\n",
       "       u'app_id', u'publish', u'user_rating', u'keywords', u'Rdate',\n",
       "       u'critics_review', u'genre', u'list_title', u'desc', u'type',\n",
       "       u'no_links', u'game_spcs', u'percent', u'reivew_users',\n",
       "       u'keywords_list', u'sub', u'genre_list', u'dlc_sub', u'dlc_notsub'],\n",
       "      dtype='object')"
      ]
     },
     "execution_count": 864,
     "metadata": {},
     "output_type": "execute_result"
    }
   ],
   "source": [
    "a.columns"
   ]
  },
  {
   "cell_type": "code",
   "execution_count": 866,
   "metadata": {
    "collapsed": false
   },
   "outputs": [],
   "source": [
    "#adding number of dlc in the \n",
    "games_dlc=pd.merge(a, dlc_count1, how=\"left\", left_on = \"mother_node\", right_on = \"mother_dlc\")"
   ]
  },
  {
   "cell_type": "code",
   "execution_count": 867,
   "metadata": {
    "collapsed": false
   },
   "outputs": [],
   "source": [
    "for i in range(games_dlc.shape[0]):\n",
    "    if pd.isnull(games_dlc.loc[i, \"no_dlc\"])==True:\n",
    "        games_dlc.loc[i,\"no_dlc\"] = 0"
   ]
  },
  {
   "cell_type": "code",
   "execution_count": 871,
   "metadata": {
    "collapsed": false
   },
   "outputs": [],
   "source": [
    "games_dlc.loc[games_dlc[\"no_dlc\"]>=1,\"dlc_av\"] = 1\n",
    "games_dlc.loc[games_dlc[\"no_dlc\"]==0,\"dlc_av\"] = 0"
   ]
  },
  {
   "cell_type": "code",
   "execution_count": 872,
   "metadata": {
    "collapsed": false
   },
   "outputs": [
    {
     "data": {
      "text/plain": [
       "0.0    4035\n",
       "1.0     538\n",
       "Name: dlc_av, dtype: int64"
      ]
     },
     "execution_count": 872,
     "metadata": {},
     "output_type": "execute_result"
    }
   ],
   "source": [
    "games_dlc[\"dlc_av\"].value_counts()"
   ]
  },
  {
   "cell_type": "code",
   "execution_count": 873,
   "metadata": {
    "collapsed": false
   },
   "outputs": [
    {
     "data": {
      "text/plain": [
       "Index([u'mother_node', u'main_link', u'no_user', u'title_steam', u'url',\n",
       "       u'app_id', u'publish', u'user_rating', u'keywords', u'Rdate',\n",
       "       u'critics_review', u'genre', u'list_title', u'desc', u'type',\n",
       "       u'no_links', u'game_spcs', u'percent', u'reivew_users',\n",
       "       u'keywords_list', u'sub', u'genre_list', u'dlc_sub', u'dlc_notsub',\n",
       "       u'mother_dlc', u'no_dlc', u'dlc_av'],\n",
       "      dtype='object')"
      ]
     },
     "execution_count": 873,
     "metadata": {},
     "output_type": "execute_result"
    }
   ],
   "source": [
    "games_dlc.columns"
   ]
  },
  {
   "cell_type": "code",
   "execution_count": 874,
   "metadata": {
    "collapsed": false
   },
   "outputs": [
    {
     "data": {
      "text/plain": [
       "(4573, 27)"
      ]
     },
     "execution_count": 874,
     "metadata": {},
     "output_type": "execute_result"
    }
   ],
   "source": [
    "games_dlc.shape"
   ]
  },
  {
   "cell_type": "code",
   "execution_count": 1148,
   "metadata": {
    "collapsed": false
   },
   "outputs": [],
   "source": [
    "steam_rank = pd.read_csv(\"/Users/jasonchiu0803/Desktop/data_bootcamp/Python Introduction/ranking_withprice.csv\")"
   ]
  },
  {
   "cell_type": "code",
   "execution_count": 1149,
   "metadata": {
    "collapsed": false
   },
   "outputs": [],
   "source": [
    "steam_rank_no = steam_rank.groupby(by=\"title\").first().reset_index()"
   ]
  },
  {
   "cell_type": "code",
   "execution_count": 1150,
   "metadata": {
    "collapsed": false
   },
   "outputs": [
    {
     "data": {
      "text/html": [
       "<div>\n",
       "<table border=\"1\" class=\"dataframe\">\n",
       "  <thead>\n",
       "    <tr style=\"text-align: right;\">\n",
       "      <th></th>\n",
       "      <th>title</th>\n",
       "      <th>rank_no</th>\n",
       "      <th>price</th>\n",
       "    </tr>\n",
       "  </thead>\n",
       "  <tbody>\n",
       "    <tr>\n",
       "      <th>0</th>\n",
       "      <td></td>\n",
       "      <td>6413</td>\n",
       "      <td>1.99</td>\n",
       "    </tr>\n",
       "    <tr>\n",
       "      <th>1</th>\n",
       "      <td>- Red Obsidian Remnant</td>\n",
       "      <td>3567</td>\n",
       "      <td>8.99</td>\n",
       "    </tr>\n",
       "    <tr>\n",
       "      <th>2</th>\n",
       "      <td>Double Oik!</td>\n",
       "      <td>3275</td>\n",
       "      <td>1.78</td>\n",
       "    </tr>\n",
       "  </tbody>\n",
       "</table>\n",
       "</div>"
      ],
      "text/plain": [
       "                     title  rank_no price\n",
       "0                              6413  1.99\n",
       "1   - Red Obsidian Remnant     3567  8.99\n",
       "2              Double Oik!     3275  1.78"
      ]
     },
     "execution_count": 1150,
     "metadata": {},
     "output_type": "execute_result"
    }
   ],
   "source": [
    "steam_rank_no.head(3)"
   ]
  },
  {
   "cell_type": "code",
   "execution_count": 1151,
   "metadata": {
    "collapsed": false
   },
   "outputs": [],
   "source": [
    "steam_rank_no.loc[0,\"title\"]=\"\""
   ]
  },
  {
   "cell_type": "code",
   "execution_count": 1152,
   "metadata": {
    "collapsed": false
   },
   "outputs": [],
   "source": [
    "steam_rank_no1 = steam_rank_no.groupby(by=\"title\").first().reset_index()"
   ]
  },
  {
   "cell_type": "code",
   "execution_count": 1153,
   "metadata": {
    "collapsed": false
   },
   "outputs": [],
   "source": [
    "steam_name = steam1[[\"mother_node\",\"title\"]]"
   ]
  },
  {
   "cell_type": "code",
   "execution_count": 1154,
   "metadata": {
    "collapsed": false
   },
   "outputs": [],
   "source": [
    "steam_name = steam_name.drop_duplicates()"
   ]
  },
  {
   "cell_type": "code",
   "execution_count": 1155,
   "metadata": {
    "collapsed": false
   },
   "outputs": [
    {
     "data": {
      "text/plain": [
       "(7498, 2)"
      ]
     },
     "execution_count": 1155,
     "metadata": {},
     "output_type": "execute_result"
    }
   ],
   "source": [
    "steam_name.shape"
   ]
  },
  {
   "cell_type": "code",
   "execution_count": 1156,
   "metadata": {
    "collapsed": false
   },
   "outputs": [],
   "source": [
    "ranking = pd.merge(steam_name, steam_rank_no1, how=\"inner\",left_on=\"title\",right_on=\"title\")"
   ]
  },
  {
   "cell_type": "code",
   "execution_count": 1157,
   "metadata": {
    "collapsed": false
   },
   "outputs": [
    {
     "data": {
      "text/html": [
       "<div>\n",
       "<table border=\"1\" class=\"dataframe\">\n",
       "  <thead>\n",
       "    <tr style=\"text-align: right;\">\n",
       "      <th></th>\n",
       "      <th>mother_node</th>\n",
       "      <th>title</th>\n",
       "      <th>rank_no</th>\n",
       "      <th>price</th>\n",
       "    </tr>\n",
       "  </thead>\n",
       "  <tbody>\n",
       "    <tr>\n",
       "      <th>0</th>\n",
       "      <td>DRAGON BALL XENOVERSE 2</td>\n",
       "      <td>DRAGON BALL XENOVERSE 2</td>\n",
       "      <td>202</td>\n",
       "      <td>49.99</td>\n",
       "    </tr>\n",
       "    <tr>\n",
       "      <th>1</th>\n",
       "      <td>FOR HONOR</td>\n",
       "      <td>FOR HONOR</td>\n",
       "      <td>713</td>\n",
       "      <td>59.99</td>\n",
       "    </tr>\n",
       "  </tbody>\n",
       "</table>\n",
       "</div>"
      ],
      "text/plain": [
       "               mother_node                    title  rank_no  price\n",
       "0  DRAGON BALL XENOVERSE 2  DRAGON BALL XENOVERSE 2      202  49.99\n",
       "1                FOR HONOR                FOR HONOR      713  59.99"
      ]
     },
     "execution_count": 1157,
     "metadata": {},
     "output_type": "execute_result"
    }
   ],
   "source": [
    "ranking.head(2)"
   ]
  },
  {
   "cell_type": "code",
   "execution_count": 1158,
   "metadata": {
    "collapsed": false
   },
   "outputs": [
    {
     "data": {
      "text/plain": [
       "(4790, 4)"
      ]
     },
     "execution_count": 1158,
     "metadata": {},
     "output_type": "execute_result"
    }
   ],
   "source": [
    "ranking.shape"
   ]
  },
  {
   "cell_type": "code",
   "execution_count": 1160,
   "metadata": {
    "collapsed": false
   },
   "outputs": [],
   "source": [
    "ranking = ranking.sort_values(\"rank_no\")"
   ]
  },
  {
   "cell_type": "code",
   "execution_count": 1164,
   "metadata": {
    "collapsed": false
   },
   "outputs": [
    {
     "ename": "AttributeError",
     "evalue": "'DataFrameGroupBy' object has no attribute 'summary'",
     "output_type": "error",
     "traceback": [
      "\u001b[0;31m---------------------------------------------------------------------------\u001b[0m",
      "\u001b[0;31mAttributeError\u001b[0m                            Traceback (most recent call last)",
      "\u001b[0;32m<ipython-input-1164-cb92b9b5774f>\u001b[0m in \u001b[0;36m<module>\u001b[0;34m()\u001b[0m\n\u001b[0;32m----> 1\u001b[0;31m \u001b[0mprice_tag\u001b[0m \u001b[0;34m=\u001b[0m \u001b[0mranking\u001b[0m\u001b[0;34m[\u001b[0m\u001b[0;34m[\u001b[0m\u001b[0;34m\"mother_node\"\u001b[0m\u001b[0;34m,\u001b[0m\u001b[0;34m\"price\"\u001b[0m\u001b[0;34m]\u001b[0m\u001b[0;34m]\u001b[0m\u001b[0;34m.\u001b[0m\u001b[0mgroupby\u001b[0m\u001b[0;34m(\u001b[0m\u001b[0;34m\"mother_node\"\u001b[0m\u001b[0;34m)\u001b[0m\u001b[0;34m.\u001b[0m\u001b[0magg\u001b[0m\u001b[0;34m(\u001b[0m\u001b[0;34m\"summary\"\u001b[0m\u001b[0;34m)\u001b[0m\u001b[0;34m\u001b[0m\u001b[0m\n\u001b[0m",
      "\u001b[0;32m/Users/jasonchiu0803/anaconda2/lib/python2.7/site-packages/pandas/core/groupby.pyc\u001b[0m in \u001b[0;36maggregate\u001b[0;34m(self, arg, *args, **kwargs)\u001b[0m\n\u001b[1;32m   3595\u001b[0m     \u001b[0;34m@\u001b[0m\u001b[0mAppender\u001b[0m\u001b[0;34m(\u001b[0m\u001b[0mSelectionMixin\u001b[0m\u001b[0;34m.\u001b[0m\u001b[0m_agg_doc\u001b[0m\u001b[0;34m)\u001b[0m\u001b[0;34m\u001b[0m\u001b[0m\n\u001b[1;32m   3596\u001b[0m     \u001b[0;32mdef\u001b[0m \u001b[0maggregate\u001b[0m\u001b[0;34m(\u001b[0m\u001b[0mself\u001b[0m\u001b[0;34m,\u001b[0m \u001b[0marg\u001b[0m\u001b[0;34m,\u001b[0m \u001b[0;34m*\u001b[0m\u001b[0margs\u001b[0m\u001b[0;34m,\u001b[0m \u001b[0;34m**\u001b[0m\u001b[0mkwargs\u001b[0m\u001b[0;34m)\u001b[0m\u001b[0;34m:\u001b[0m\u001b[0;34m\u001b[0m\u001b[0m\n\u001b[0;32m-> 3597\u001b[0;31m         \u001b[0;32mreturn\u001b[0m \u001b[0msuper\u001b[0m\u001b[0;34m(\u001b[0m\u001b[0mDataFrameGroupBy\u001b[0m\u001b[0;34m,\u001b[0m \u001b[0mself\u001b[0m\u001b[0;34m)\u001b[0m\u001b[0;34m.\u001b[0m\u001b[0maggregate\u001b[0m\u001b[0;34m(\u001b[0m\u001b[0marg\u001b[0m\u001b[0;34m,\u001b[0m \u001b[0;34m*\u001b[0m\u001b[0margs\u001b[0m\u001b[0;34m,\u001b[0m \u001b[0;34m**\u001b[0m\u001b[0mkwargs\u001b[0m\u001b[0;34m)\u001b[0m\u001b[0;34m\u001b[0m\u001b[0m\n\u001b[0m\u001b[1;32m   3598\u001b[0m \u001b[0;34m\u001b[0m\u001b[0m\n\u001b[1;32m   3599\u001b[0m     \u001b[0magg\u001b[0m \u001b[0;34m=\u001b[0m \u001b[0maggregate\u001b[0m\u001b[0;34m\u001b[0m\u001b[0m\n",
      "\u001b[0;32m/Users/jasonchiu0803/anaconda2/lib/python2.7/site-packages/pandas/core/groupby.pyc\u001b[0m in \u001b[0;36maggregate\u001b[0;34m(self, arg, *args, **kwargs)\u001b[0m\n\u001b[1;32m   3112\u001b[0m \u001b[0;34m\u001b[0m\u001b[0m\n\u001b[1;32m   3113\u001b[0m         \u001b[0m_level\u001b[0m \u001b[0;34m=\u001b[0m \u001b[0mkwargs\u001b[0m\u001b[0;34m.\u001b[0m\u001b[0mpop\u001b[0m\u001b[0;34m(\u001b[0m\u001b[0;34m'_level'\u001b[0m\u001b[0;34m,\u001b[0m \u001b[0mNone\u001b[0m\u001b[0;34m)\u001b[0m\u001b[0;34m\u001b[0m\u001b[0m\n\u001b[0;32m-> 3114\u001b[0;31m         \u001b[0mresult\u001b[0m\u001b[0;34m,\u001b[0m \u001b[0mhow\u001b[0m \u001b[0;34m=\u001b[0m \u001b[0mself\u001b[0m\u001b[0;34m.\u001b[0m\u001b[0m_aggregate\u001b[0m\u001b[0;34m(\u001b[0m\u001b[0marg\u001b[0m\u001b[0;34m,\u001b[0m \u001b[0m_level\u001b[0m\u001b[0;34m=\u001b[0m\u001b[0m_level\u001b[0m\u001b[0;34m,\u001b[0m \u001b[0;34m*\u001b[0m\u001b[0margs\u001b[0m\u001b[0;34m,\u001b[0m \u001b[0;34m**\u001b[0m\u001b[0mkwargs\u001b[0m\u001b[0;34m)\u001b[0m\u001b[0;34m\u001b[0m\u001b[0m\n\u001b[0m\u001b[1;32m   3115\u001b[0m         \u001b[0;32mif\u001b[0m \u001b[0mhow\u001b[0m \u001b[0;32mis\u001b[0m \u001b[0mNone\u001b[0m\u001b[0;34m:\u001b[0m\u001b[0;34m\u001b[0m\u001b[0m\n\u001b[1;32m   3116\u001b[0m             \u001b[0;32mreturn\u001b[0m \u001b[0mresult\u001b[0m\u001b[0;34m\u001b[0m\u001b[0m\n",
      "\u001b[0;32m/Users/jasonchiu0803/anaconda2/lib/python2.7/site-packages/pandas/core/base.pyc\u001b[0m in \u001b[0;36m_aggregate\u001b[0;34m(self, arg, *args, **kwargs)\u001b[0m\n\u001b[1;32m    426\u001b[0m         \u001b[0m_level\u001b[0m \u001b[0;34m=\u001b[0m \u001b[0mkwargs\u001b[0m\u001b[0;34m.\u001b[0m\u001b[0mpop\u001b[0m\u001b[0;34m(\u001b[0m\u001b[0;34m'_level'\u001b[0m\u001b[0;34m,\u001b[0m \u001b[0mNone\u001b[0m\u001b[0;34m)\u001b[0m\u001b[0;34m\u001b[0m\u001b[0m\n\u001b[1;32m    427\u001b[0m         \u001b[0;32mif\u001b[0m \u001b[0misinstance\u001b[0m\u001b[0;34m(\u001b[0m\u001b[0marg\u001b[0m\u001b[0;34m,\u001b[0m \u001b[0mcompat\u001b[0m\u001b[0;34m.\u001b[0m\u001b[0mstring_types\u001b[0m\u001b[0;34m)\u001b[0m\u001b[0;34m:\u001b[0m\u001b[0;34m\u001b[0m\u001b[0m\n\u001b[0;32m--> 428\u001b[0;31m             \u001b[0;32mreturn\u001b[0m \u001b[0mgetattr\u001b[0m\u001b[0;34m(\u001b[0m\u001b[0mself\u001b[0m\u001b[0;34m,\u001b[0m \u001b[0marg\u001b[0m\u001b[0;34m)\u001b[0m\u001b[0;34m(\u001b[0m\u001b[0;34m*\u001b[0m\u001b[0margs\u001b[0m\u001b[0;34m,\u001b[0m \u001b[0;34m**\u001b[0m\u001b[0mkwargs\u001b[0m\u001b[0;34m)\u001b[0m\u001b[0;34m,\u001b[0m \u001b[0mNone\u001b[0m\u001b[0;34m\u001b[0m\u001b[0m\n\u001b[0m\u001b[1;32m    429\u001b[0m \u001b[0;34m\u001b[0m\u001b[0m\n\u001b[1;32m    430\u001b[0m         \u001b[0;32mif\u001b[0m \u001b[0misinstance\u001b[0m\u001b[0;34m(\u001b[0m\u001b[0marg\u001b[0m\u001b[0;34m,\u001b[0m \u001b[0mdict\u001b[0m\u001b[0;34m)\u001b[0m\u001b[0;34m:\u001b[0m\u001b[0;34m\u001b[0m\u001b[0m\n",
      "\u001b[0;32m/Users/jasonchiu0803/anaconda2/lib/python2.7/site-packages/pandas/core/groupby.pyc\u001b[0m in \u001b[0;36m__getattr__\u001b[0;34m(self, attr)\u001b[0m\n\u001b[1;32m    496\u001b[0m \u001b[0;34m\u001b[0m\u001b[0m\n\u001b[1;32m    497\u001b[0m         raise AttributeError(\"%r object has no attribute %r\" %\n\u001b[0;32m--> 498\u001b[0;31m                              (type(self).__name__, attr))\n\u001b[0m\u001b[1;32m    499\u001b[0m \u001b[0;34m\u001b[0m\u001b[0m\n\u001b[1;32m    500\u001b[0m     \u001b[0mplot\u001b[0m \u001b[0;34m=\u001b[0m \u001b[0mproperty\u001b[0m\u001b[0;34m(\u001b[0m\u001b[0mGroupByPlot\u001b[0m\u001b[0;34m)\u001b[0m\u001b[0;34m\u001b[0m\u001b[0m\n",
      "\u001b[0;31mAttributeError\u001b[0m: 'DataFrameGroupBy' object has no attribute 'summary'"
     ]
    }
   ],
   "source": [
    "price_tag = ranking[[\"mother_node\",\"price\"]].groupby(\"mother_node\").agg(\"summary\")"
   ]
  },
  {
   "cell_type": "code",
   "execution_count": null,
   "metadata": {
    "collapsed": true
   },
   "outputs": [],
   "source": []
  },
  {
   "cell_type": "code",
   "execution_count": 1163,
   "metadata": {
    "collapsed": false
   },
   "outputs": [],
   "source": [
    "ranking_mother = ranking.sort_values([\"rank_no\"])[[\"mother_node\",\"title\",\"rank_no\"]].groupby(\"mother_node\").first().reset_index()"
   ]
  },
  {
   "cell_type": "code",
   "execution_count": null,
   "metadata": {
    "collapsed": true
   },
   "outputs": [],
   "source": []
  },
  {
   "cell_type": "code",
   "execution_count": 927,
   "metadata": {
    "collapsed": false
   },
   "outputs": [
    {
     "data": {
      "text/html": [
       "<div>\n",
       "<table border=\"1\" class=\"dataframe\">\n",
       "  <thead>\n",
       "    <tr style=\"text-align: right;\">\n",
       "      <th></th>\n",
       "      <th>mother_node</th>\n",
       "      <th>title</th>\n",
       "      <th>rank</th>\n",
       "    </tr>\n",
       "  </thead>\n",
       "  <tbody>\n",
       "    <tr>\n",
       "      <th>0</th>\n",
       "      <td>- Red Obsidian Remnant</td>\n",
       "      <td>- Red Obsidian Remnant</td>\n",
       "      <td>2021</td>\n",
       "    </tr>\n",
       "    <tr>\n",
       "      <th>1</th>\n",
       "      <td>\"BUTTS: The VR Experience\"</td>\n",
       "      <td>\"BUTTS: The VR Experience\"</td>\n",
       "      <td>8230</td>\n",
       "    </tr>\n",
       "    <tr>\n",
       "      <th>2</th>\n",
       "      <td>#Archery</td>\n",
       "      <td>#Archery</td>\n",
       "      <td>2194</td>\n",
       "    </tr>\n",
       "  </tbody>\n",
       "</table>\n",
       "</div>"
      ],
      "text/plain": [
       "                  mother_node                       title  rank\n",
       "0      - Red Obsidian Remnant      - Red Obsidian Remnant  2021\n",
       "1  \"BUTTS: The VR Experience\"  \"BUTTS: The VR Experience\"  8230\n",
       "2                    #Archery                    #Archery  2194"
      ]
     },
     "execution_count": 927,
     "metadata": {},
     "output_type": "execute_result"
    }
   ],
   "source": [
    "ranking_mother.head(3)"
   ]
  },
  {
   "cell_type": "code",
   "execution_count": 929,
   "metadata": {
    "collapsed": false
   },
   "outputs": [
    {
     "data": {
      "text/plain": [
       "(4663, 3)"
      ]
     },
     "execution_count": 929,
     "metadata": {},
     "output_type": "execute_result"
    }
   ],
   "source": [
    "ranking_mother.shape"
   ]
  },
  {
   "cell_type": "code",
   "execution_count": 931,
   "metadata": {
    "collapsed": false
   },
   "outputs": [
    {
     "data": {
      "text/plain": [
       "Index([u'mother_node', u'main_link', u'no_user', u'title_steam', u'url',\n",
       "       u'app_id', u'publish', u'user_rating', u'keywords', u'Rdate',\n",
       "       u'critics_review', u'genre', u'list_title', u'desc', u'type',\n",
       "       u'no_links', u'game_spcs', u'percent', u'reivew_users',\n",
       "       u'keywords_list', u'sub', u'genre_list', u'dlc_sub', u'dlc_notsub',\n",
       "       u'mother_dlc', u'no_dlc', u'dlc_av'],\n",
       "      dtype='object')"
      ]
     },
     "execution_count": 931,
     "metadata": {},
     "output_type": "execute_result"
    }
   ],
   "source": [
    "games_dlc.columns"
   ]
  },
  {
   "cell_type": "code",
   "execution_count": 930,
   "metadata": {
    "collapsed": true
   },
   "outputs": [],
   "source": [
    "ranking_mother.rename(columns={'mother_node':'mother_rank','title':'title_rank'}, inplace=True)"
   ]
  },
  {
   "cell_type": "code",
   "execution_count": 933,
   "metadata": {
    "collapsed": false
   },
   "outputs": [],
   "source": [
    "rank = pd.merge(games_dlc, ranking_mother, how = \"inner\", left_on = \"mother_node\", right_on = \"mother_rank\")"
   ]
  },
  {
   "cell_type": "code",
   "execution_count": 936,
   "metadata": {
    "collapsed": false
   },
   "outputs": [
    {
     "data": {
      "text/plain": [
       "(4456, 30)"
      ]
     },
     "execution_count": 936,
     "metadata": {},
     "output_type": "execute_result"
    }
   ],
   "source": [
    "rank.shape"
   ]
  },
  {
   "cell_type": "code",
   "execution_count": 937,
   "metadata": {
    "collapsed": false
   },
   "outputs": [
    {
     "data": {
      "text/plain": [
       "0"
      ]
     },
     "execution_count": 937,
     "metadata": {},
     "output_type": "execute_result"
    }
   ],
   "source": [
    "sum(pd.isnull(rank[\"rank\"]))"
   ]
  },
  {
   "cell_type": "code",
   "execution_count": 938,
   "metadata": {
    "collapsed": false
   },
   "outputs": [
    {
     "data": {
      "text/plain": [
       "5"
      ]
     },
     "execution_count": 938,
     "metadata": {},
     "output_type": "execute_result"
    }
   ],
   "source": [
    "sum(pd.isnull(rank[\"Rdate\"]))"
   ]
  },
  {
   "cell_type": "code",
   "execution_count": 939,
   "metadata": {
    "collapsed": false
   },
   "outputs": [
    {
     "data": {
      "text/plain": [
       "Index([u'mother_node', u'main_link', u'no_user', u'title_steam', u'url',\n",
       "       u'app_id', u'publish', u'user_rating', u'keywords', u'Rdate',\n",
       "       u'critics_review', u'genre', u'list_title', u'desc', u'type',\n",
       "       u'no_links', u'game_spcs', u'percent', u'reivew_users',\n",
       "       u'keywords_list', u'sub', u'genre_list', u'dlc_sub', u'dlc_notsub',\n",
       "       u'mother_dlc', u'no_dlc', u'dlc_av', u'mother_rank', u'title_rank',\n",
       "       u'rank'],\n",
       "      dtype='object')"
      ]
     },
     "execution_count": 939,
     "metadata": {},
     "output_type": "execute_result"
    }
   ],
   "source": [
    "rank.columns"
   ]
  },
  {
   "cell_type": "code",
   "execution_count": 940,
   "metadata": {
    "collapsed": true
   },
   "outputs": [],
   "source": [
    "steam_player = pd.read_csv(\"/Users/jasonchiu0803/Desktop/data_bootcamp/Selenium/users.csv\")"
   ]
  },
  {
   "cell_type": "code",
   "execution_count": 941,
   "metadata": {
    "collapsed": false
   },
   "outputs": [
    {
     "data": {
      "text/plain": [
       "(7750, 5)"
      ]
     },
     "execution_count": 941,
     "metadata": {},
     "output_type": "execute_result"
    }
   ],
   "source": [
    "steam_player.shape"
   ]
  },
  {
   "cell_type": "code",
   "execution_count": 954,
   "metadata": {
    "collapsed": false
   },
   "outputs": [
    {
     "data": {
      "text/plain": [
       "Index([u'current', u'all_time', u'app_id', u'24_peak', u'title'], dtype='object')"
      ]
     },
     "execution_count": 954,
     "metadata": {},
     "output_type": "execute_result"
    }
   ],
   "source": [
    "steam_player.columns"
   ]
  },
  {
   "cell_type": "code",
   "execution_count": 969,
   "metadata": {
    "collapsed": true
   },
   "outputs": [],
   "source": [
    "steam_app = steam1[[\"mother_node\",\"title\",\"app_id\"]]"
   ]
  },
  {
   "cell_type": "code",
   "execution_count": 970,
   "metadata": {
    "collapsed": false
   },
   "outputs": [],
   "source": [
    "steam_app = steam_app.drop_duplicates()"
   ]
  },
  {
   "cell_type": "code",
   "execution_count": 972,
   "metadata": {
    "collapsed": false
   },
   "outputs": [
    {
     "data": {
      "text/html": [
       "<div>\n",
       "<table border=\"1\" class=\"dataframe\">\n",
       "  <thead>\n",
       "    <tr style=\"text-align: right;\">\n",
       "      <th></th>\n",
       "      <th>mother_node</th>\n",
       "      <th>title</th>\n",
       "      <th>app_id</th>\n",
       "    </tr>\n",
       "  </thead>\n",
       "  <tbody>\n",
       "    <tr>\n",
       "      <th>0</th>\n",
       "      <td>DRAGON BALL XENOVERSE 2</td>\n",
       "      <td>DRAGON BALL XENOVERSE 2</td>\n",
       "      <td>454650</td>\n",
       "    </tr>\n",
       "    <tr>\n",
       "      <th>1</th>\n",
       "      <td>FOR HONOR</td>\n",
       "      <td>FOR HONOR</td>\n",
       "      <td>304390</td>\n",
       "    </tr>\n",
       "    <tr>\n",
       "      <th>2</th>\n",
       "      <td>Dungeon Warfare</td>\n",
       "      <td>Dungeon Warfare</td>\n",
       "      <td>355980</td>\n",
       "    </tr>\n",
       "    <tr>\n",
       "      <th>3</th>\n",
       "      <td>theHunter: Call of the Wild</td>\n",
       "      <td>theHunter: Call of the Wild</td>\n",
       "      <td>518790</td>\n",
       "    </tr>\n",
       "    <tr>\n",
       "      <th>4</th>\n",
       "      <td>Thimbleweed Park</td>\n",
       "      <td>Thimbleweed Park</td>\n",
       "      <td>569860</td>\n",
       "    </tr>\n",
       "  </tbody>\n",
       "</table>\n",
       "</div>"
      ],
      "text/plain": [
       "                   mother_node                        title  app_id\n",
       "0      DRAGON BALL XENOVERSE 2      DRAGON BALL XENOVERSE 2  454650\n",
       "1                    FOR HONOR                    FOR HONOR  304390\n",
       "2              Dungeon Warfare              Dungeon Warfare  355980\n",
       "3  theHunter: Call of the Wild  theHunter: Call of the Wild  518790\n",
       "4             Thimbleweed Park             Thimbleweed Park  569860"
      ]
     },
     "execution_count": 972,
     "metadata": {},
     "output_type": "execute_result"
    }
   ],
   "source": [
    "steam_app.head(5)"
   ]
  },
  {
   "cell_type": "code",
   "execution_count": 974,
   "metadata": {
    "collapsed": false
   },
   "outputs": [],
   "source": [
    "name_player = pd.merge(steam_player, steam_app, how=\"inner\",left_on = \"app_id\",right_on = \"app_id\")"
   ]
  },
  {
   "cell_type": "code",
   "execution_count": 976,
   "metadata": {
    "collapsed": false
   },
   "outputs": [
    {
     "data": {
      "text/plain": [
       "Index([u'current', u'all_time', u'app_id', u'24_peak', u'title_x',\n",
       "       u'mother_node', u'title_y'],\n",
       "      dtype='object')"
      ]
     },
     "execution_count": 976,
     "metadata": {},
     "output_type": "execute_result"
    }
   ],
   "source": [
    "name_player.columns"
   ]
  },
  {
   "cell_type": "code",
   "execution_count": 977,
   "metadata": {
    "collapsed": false
   },
   "outputs": [
    {
     "data": {
      "text/plain": [
       "(3453, 7)"
      ]
     },
     "execution_count": 977,
     "metadata": {},
     "output_type": "execute_result"
    }
   ],
   "source": [
    "name_player.shape"
   ]
  },
  {
   "cell_type": "code",
   "execution_count": 989,
   "metadata": {
    "collapsed": false
   },
   "outputs": [],
   "source": [
    "name_player_sum = name_player.groupby('mother_node').agg([\"sum\"]).reset_index()"
   ]
  },
  {
   "cell_type": "code",
   "execution_count": 991,
   "metadata": {
    "collapsed": false
   },
   "outputs": [
    {
     "data": {
      "text/html": [
       "<div>\n",
       "<table border=\"1\" class=\"dataframe\">\n",
       "  <thead>\n",
       "    <tr>\n",
       "      <th></th>\n",
       "      <th>mother_node</th>\n",
       "      <th>current</th>\n",
       "      <th>all_time</th>\n",
       "      <th>app_id</th>\n",
       "      <th>24_peak</th>\n",
       "      <th>title_x</th>\n",
       "      <th>title_y</th>\n",
       "    </tr>\n",
       "    <tr>\n",
       "      <th></th>\n",
       "      <th></th>\n",
       "      <th>sum</th>\n",
       "      <th>sum</th>\n",
       "      <th>sum</th>\n",
       "      <th>sum</th>\n",
       "      <th>sum</th>\n",
       "      <th>sum</th>\n",
       "    </tr>\n",
       "  </thead>\n",
       "  <tbody>\n",
       "    <tr>\n",
       "      <th>0</th>\n",
       "      <td></td>\n",
       "      <td>2</td>\n",
       "      <td>27</td>\n",
       "      <td>562210</td>\n",
       "      <td>15</td>\n",
       "      <td>Ancient Rus</td>\n",
       "      <td></td>\n",
       "    </tr>\n",
       "    <tr>\n",
       "      <th>1</th>\n",
       "      <td>- Red Obsidian Remnant</td>\n",
       "      <td>10</td>\n",
       "      <td>290</td>\n",
       "      <td>610960</td>\n",
       "      <td>171</td>\n",
       "      <td>Red Obsidian Remnant</td>\n",
       "      <td>- Red Obsidian Remnant</td>\n",
       "    </tr>\n",
       "    <tr>\n",
       "      <th>2</th>\n",
       "      <td>#KILLALLZOMBIES</td>\n",
       "      <td>1</td>\n",
       "      <td>11</td>\n",
       "      <td>303720</td>\n",
       "      <td>2</td>\n",
       "      <td>#killallzombies</td>\n",
       "      <td>#KILLALLZOMBIES</td>\n",
       "    </tr>\n",
       "    <tr>\n",
       "      <th>3</th>\n",
       "      <td>$1 Ride</td>\n",
       "      <td>8</td>\n",
       "      <td>862</td>\n",
       "      <td>508290</td>\n",
       "      <td>629</td>\n",
       "      <td>$1 Ride</td>\n",
       "      <td>$1 Ride</td>\n",
       "    </tr>\n",
       "    <tr>\n",
       "      <th>4</th>\n",
       "      <td>(Tale of Wuxia)</td>\n",
       "      <td>36</td>\n",
       "      <td>963</td>\n",
       "      <td>377530</td>\n",
       "      <td>201</td>\n",
       "      <td>(Tale of Wuxia)</td>\n",
       "      <td>(Tale of Wuxia)</td>\n",
       "    </tr>\n",
       "    <tr>\n",
       "      <th>5</th>\n",
       "      <td>- Arcane Raise -</td>\n",
       "      <td>4</td>\n",
       "      <td>146</td>\n",
       "      <td>603750</td>\n",
       "      <td>6</td>\n",
       "      <td>- Arcane Raise -</td>\n",
       "      <td>- Arcane Raise -</td>\n",
       "    </tr>\n",
       "    <tr>\n",
       "      <th>6</th>\n",
       "      <td>/reality</td>\n",
       "      <td>1</td>\n",
       "      <td>10</td>\n",
       "      <td>562280</td>\n",
       "      <td>2</td>\n",
       "      <td>&lt;/reality&gt;</td>\n",
       "      <td>/reality</td>\n",
       "    </tr>\n",
       "    <tr>\n",
       "      <th>7</th>\n",
       "      <td>1 Moment Of Time: Silentville</td>\n",
       "      <td>4</td>\n",
       "      <td>115</td>\n",
       "      <td>497400</td>\n",
       "      <td>9</td>\n",
       "      <td>1 Moment Of Time: Silentville</td>\n",
       "      <td>1 Moment Of Time: Silentville</td>\n",
       "    </tr>\n",
       "    <tr>\n",
       "      <th>8</th>\n",
       "      <td>100% Orange Juice</td>\n",
       "      <td>134</td>\n",
       "      <td>991</td>\n",
       "      <td>282800</td>\n",
       "      <td>212</td>\n",
       "      <td>100% Orange Juice</td>\n",
       "      <td>100% Orange Juice</td>\n",
       "    </tr>\n",
       "    <tr>\n",
       "      <th>9</th>\n",
       "      <td>100ft Robot Golf</td>\n",
       "      <td>1</td>\n",
       "      <td>17</td>\n",
       "      <td>368000</td>\n",
       "      <td>3</td>\n",
       "      <td>100ft Robot Golf</td>\n",
       "      <td>100ft Robot Golf</td>\n",
       "    </tr>\n",
       "  </tbody>\n",
       "</table>\n",
       "</div>"
      ],
      "text/plain": [
       "                     mother_node current all_time  app_id 24_peak  \\\n",
       "                                     sum      sum     sum     sum   \n",
       "0                                      2       27  562210      15   \n",
       "1         - Red Obsidian Remnant      10      290  610960     171   \n",
       "2                #KILLALLZOMBIES       1       11  303720       2   \n",
       "3                        $1 Ride       8      862  508290     629   \n",
       "4                (Tale of Wuxia)      36      963  377530     201   \n",
       "5               - Arcane Raise -       4      146  603750       6   \n",
       "6                       /reality       1       10  562280       2   \n",
       "7  1 Moment Of Time: Silentville       4      115  497400       9   \n",
       "8              100% Orange Juice     134      991  282800     212   \n",
       "9               100ft Robot Golf       1       17  368000       3   \n",
       "\n",
       "                         title_x                        title_y  \n",
       "                             sum                            sum  \n",
       "0                    Ancient Rus                                 \n",
       "1           Red Obsidian Remnant         - Red Obsidian Remnant  \n",
       "2                #killallzombies                #KILLALLZOMBIES  \n",
       "3                        $1 Ride                        $1 Ride  \n",
       "4                (Tale of Wuxia)                (Tale of Wuxia)  \n",
       "5               - Arcane Raise -               - Arcane Raise -  \n",
       "6                     </reality>                       /reality  \n",
       "7  1 Moment Of Time: Silentville  1 Moment Of Time: Silentville  \n",
       "8              100% Orange Juice              100% Orange Juice  \n",
       "9               100ft Robot Golf               100ft Robot Golf  "
      ]
     },
     "execution_count": 991,
     "metadata": {},
     "output_type": "execute_result"
    }
   ],
   "source": [
    "name_player_sum.head(10)"
   ]
  },
  {
   "cell_type": "code",
   "execution_count": 992,
   "metadata": {
    "collapsed": true
   },
   "outputs": [],
   "source": [
    "cols = pd.MultiIndex.from_tuples([(\"sum\", \"mother_node\"), (\"sum\", \"current\"),(\"sum\",\"all_time\"),(\"sum\",\"app_id\"),(\"sum\",\"24_peak\"),(\"sum\",\"title_x\"),(\"sum\",\"title_y\")])"
   ]
  },
  {
   "cell_type": "code",
   "execution_count": 993,
   "metadata": {
    "collapsed": false
   },
   "outputs": [],
   "source": [
    "name_player_sum.columns = cols"
   ]
  },
  {
   "cell_type": "code",
   "execution_count": 995,
   "metadata": {
    "collapsed": false
   },
   "outputs": [],
   "source": [
    "name_player_sum.columns = name_player_sum.columns.droplevel()"
   ]
  },
  {
   "cell_type": "code",
   "execution_count": 997,
   "metadata": {
    "collapsed": false
   },
   "outputs": [
    {
     "data": {
      "text/html": [
       "<div>\n",
       "<table border=\"1\" class=\"dataframe\">\n",
       "  <thead>\n",
       "    <tr style=\"text-align: right;\">\n",
       "      <th></th>\n",
       "      <th>mother_node</th>\n",
       "      <th>current</th>\n",
       "      <th>all_time</th>\n",
       "      <th>app_id</th>\n",
       "      <th>24_peak</th>\n",
       "      <th>title_x</th>\n",
       "      <th>title_y</th>\n",
       "    </tr>\n",
       "  </thead>\n",
       "  <tbody>\n",
       "    <tr>\n",
       "      <th>0</th>\n",
       "      <td></td>\n",
       "      <td>2</td>\n",
       "      <td>27</td>\n",
       "      <td>562210</td>\n",
       "      <td>15</td>\n",
       "      <td>Ancient Rus</td>\n",
       "      <td></td>\n",
       "    </tr>\n",
       "    <tr>\n",
       "      <th>1</th>\n",
       "      <td>- Red Obsidian Remnant</td>\n",
       "      <td>10</td>\n",
       "      <td>290</td>\n",
       "      <td>610960</td>\n",
       "      <td>171</td>\n",
       "      <td>Red Obsidian Remnant</td>\n",
       "      <td>- Red Obsidian Remnant</td>\n",
       "    </tr>\n",
       "    <tr>\n",
       "      <th>2</th>\n",
       "      <td>#KILLALLZOMBIES</td>\n",
       "      <td>1</td>\n",
       "      <td>11</td>\n",
       "      <td>303720</td>\n",
       "      <td>2</td>\n",
       "      <td>#killallzombies</td>\n",
       "      <td>#KILLALLZOMBIES</td>\n",
       "    </tr>\n",
       "    <tr>\n",
       "      <th>3</th>\n",
       "      <td>$1 Ride</td>\n",
       "      <td>8</td>\n",
       "      <td>862</td>\n",
       "      <td>508290</td>\n",
       "      <td>629</td>\n",
       "      <td>$1 Ride</td>\n",
       "      <td>$1 Ride</td>\n",
       "    </tr>\n",
       "    <tr>\n",
       "      <th>4</th>\n",
       "      <td>(Tale of Wuxia)</td>\n",
       "      <td>36</td>\n",
       "      <td>963</td>\n",
       "      <td>377530</td>\n",
       "      <td>201</td>\n",
       "      <td>(Tale of Wuxia)</td>\n",
       "      <td>(Tale of Wuxia)</td>\n",
       "    </tr>\n",
       "  </tbody>\n",
       "</table>\n",
       "</div>"
      ],
      "text/plain": [
       "               mother_node current all_time  app_id 24_peak  \\\n",
       "0                                2       27  562210      15   \n",
       "1   - Red Obsidian Remnant      10      290  610960     171   \n",
       "2          #KILLALLZOMBIES       1       11  303720       2   \n",
       "3                  $1 Ride       8      862  508290     629   \n",
       "4          (Tale of Wuxia)      36      963  377530     201   \n",
       "\n",
       "                title_x                  title_y  \n",
       "0           Ancient Rus                           \n",
       "1  Red Obsidian Remnant   - Red Obsidian Remnant  \n",
       "2       #killallzombies          #KILLALLZOMBIES  \n",
       "3               $1 Ride                  $1 Ride  \n",
       "4       (Tale of Wuxia)          (Tale of Wuxia)  "
      ]
     },
     "execution_count": 997,
     "metadata": {},
     "output_type": "execute_result"
    }
   ],
   "source": [
    "name_player_sum.head(5)"
   ]
  },
  {
   "cell_type": "code",
   "execution_count": 998,
   "metadata": {
    "collapsed": false
   },
   "outputs": [],
   "source": [
    "final_player = pd.merge(rank, name_player_sum, how = \"inner\",left_on = \"mother_node\", right_on = \"mother_node\")"
   ]
  },
  {
   "cell_type": "code",
   "execution_count": 999,
   "metadata": {
    "collapsed": false
   },
   "outputs": [
    {
     "data": {
      "text/plain": [
       "(3358, 36)"
      ]
     },
     "execution_count": 999,
     "metadata": {},
     "output_type": "execute_result"
    }
   ],
   "source": [
    "final_player.shape"
   ]
  },
  {
   "cell_type": "code",
   "execution_count": 1004,
   "metadata": {
    "collapsed": false
   },
   "outputs": [
    {
     "data": {
      "text/plain": [
       "Index([u'mother_node', u'main_link', u'no_user', u'title_steam', u'url',\n",
       "       u'app_id_x', u'publish', u'user_rating', u'keywords', u'Rdate',\n",
       "       u'critics_review', u'genre', u'list_title', u'desc', u'type',\n",
       "       u'no_links', u'game_spcs', u'percent', u'reivew_users',\n",
       "       u'keywords_list', u'sub', u'genre_list', u'dlc_sub', u'dlc_notsub',\n",
       "       u'mother_dlc', u'no_dlc', u'dlc_av', u'mother_rank', u'title_rank',\n",
       "       u'rank', u'current', u'all_time', u'app_id_y', u'24_peak', u'title_x',\n",
       "       u'title_y'],\n",
       "      dtype='object')"
      ]
     },
     "execution_count": 1004,
     "metadata": {},
     "output_type": "execute_result"
    }
   ],
   "source": [
    "final_player.columns"
   ]
  },
  {
   "cell_type": "code",
   "execution_count": 1039,
   "metadata": {
    "collapsed": false
   },
   "outputs": [
    {
     "data": {
      "text/html": [
       "<div>\n",
       "<table border=\"1\" class=\"dataframe\">\n",
       "  <thead>\n",
       "    <tr style=\"text-align: right;\">\n",
       "      <th></th>\n",
       "      <th>mother_node</th>\n",
       "      <th>main_link</th>\n",
       "      <th>no_user</th>\n",
       "      <th>title_steam</th>\n",
       "      <th>url</th>\n",
       "      <th>app_id_x</th>\n",
       "      <th>publish</th>\n",
       "      <th>user_rating</th>\n",
       "      <th>keywords</th>\n",
       "      <th>Rdate</th>\n",
       "      <th>...</th>\n",
       "      <th>dlc_av</th>\n",
       "      <th>mother_rank</th>\n",
       "      <th>title_rank</th>\n",
       "      <th>rank</th>\n",
       "      <th>current</th>\n",
       "      <th>all_time</th>\n",
       "      <th>app_id_y</th>\n",
       "      <th>24_peak</th>\n",
       "      <th>title_x</th>\n",
       "      <th>title_y</th>\n",
       "    </tr>\n",
       "  </thead>\n",
       "  <tbody>\n",
       "    <tr>\n",
       "      <th>0</th>\n",
       "      <td>- Red Obsidian Remnant</td>\n",
       "      <td>http://store.steampowered.com/app/610960/?snr=...</td>\n",
       "      <td>- 93% of the 149 user reviews for this game ar...</td>\n",
       "      <td>- Red Obsidian Remnant</td>\n",
       "      <td>http://store.steampowered.com/app/610960/__Red...</td>\n",
       "      <td>610960</td>\n",
       "      <td>Red Obsidian Studio,Beijing New Era Network Te...</td>\n",
       "      <td>Very Positive</td>\n",
       "      <td>\\r\\n\\t\\t\\t\\t\\t\\t\\t\\t\\t\\t\\t\\tEarly Access\\t\\t\\t...</td>\n",
       "      <td>Apr 20, 2017</td>\n",
       "      <td>...</td>\n",
       "      <td>0.0</td>\n",
       "      <td>- Red Obsidian Remnant</td>\n",
       "      <td>- Red Obsidian Remnant</td>\n",
       "      <td>2021</td>\n",
       "      <td>10</td>\n",
       "      <td>290</td>\n",
       "      <td>610960</td>\n",
       "      <td>171</td>\n",
       "      <td>Red Obsidian Remnant</td>\n",
       "      <td>- Red Obsidian Remnant</td>\n",
       "    </tr>\n",
       "    <tr>\n",
       "      <th>1</th>\n",
       "      <td>#KILLALLZOMBIES</td>\n",
       "      <td>http://store.steampowered.com/app/303720/?snr=...</td>\n",
       "      <td>- 40% of the 15 user reviews for this game are...</td>\n",
       "      <td>#KILLALLZOMBIES</td>\n",
       "      <td>http://store.steampowered.com/app/303720/KILLA...</td>\n",
       "      <td>303720</td>\n",
       "      <td>Beatshapers,8Floor,Beatshapers</td>\n",
       "      <td>NaN</td>\n",
       "      <td>\\r\\n\\t\\t\\t\\t\\t\\t\\t\\t\\t\\t\\t\\tAction\\t\\t\\t\\t\\t\\t...</td>\n",
       "      <td>Aug 10, 2016</td>\n",
       "      <td>...</td>\n",
       "      <td>0.0</td>\n",
       "      <td>#KILLALLZOMBIES</td>\n",
       "      <td>#KILLALLZOMBIES</td>\n",
       "      <td>5399</td>\n",
       "      <td>1</td>\n",
       "      <td>11</td>\n",
       "      <td>303720</td>\n",
       "      <td>2</td>\n",
       "      <td>#killallzombies</td>\n",
       "      <td>#KILLALLZOMBIES</td>\n",
       "    </tr>\n",
       "  </tbody>\n",
       "</table>\n",
       "<p>2 rows × 36 columns</p>\n",
       "</div>"
      ],
      "text/plain": [
       "               mother_node                                          main_link  \\\n",
       "0   - Red Obsidian Remnant  http://store.steampowered.com/app/610960/?snr=...   \n",
       "1          #KILLALLZOMBIES  http://store.steampowered.com/app/303720/?snr=...   \n",
       "\n",
       "                                             no_user              title_steam  \\\n",
       "0  - 93% of the 149 user reviews for this game ar...   - Red Obsidian Remnant   \n",
       "1  - 40% of the 15 user reviews for this game are...          #KILLALLZOMBIES   \n",
       "\n",
       "                                                 url  app_id_x  \\\n",
       "0  http://store.steampowered.com/app/610960/__Red...    610960   \n",
       "1  http://store.steampowered.com/app/303720/KILLA...    303720   \n",
       "\n",
       "                                             publish    user_rating  \\\n",
       "0  Red Obsidian Studio,Beijing New Era Network Te...  Very Positive   \n",
       "1                     Beatshapers,8Floor,Beatshapers            NaN   \n",
       "\n",
       "                                            keywords         Rdate  \\\n",
       "0  \\r\\n\\t\\t\\t\\t\\t\\t\\t\\t\\t\\t\\t\\tEarly Access\\t\\t\\t...  Apr 20, 2017   \n",
       "1  \\r\\n\\t\\t\\t\\t\\t\\t\\t\\t\\t\\t\\t\\tAction\\t\\t\\t\\t\\t\\t...  Aug 10, 2016   \n",
       "\n",
       "            ...            dlc_av              mother_rank  \\\n",
       "0           ...               0.0   - Red Obsidian Remnant   \n",
       "1           ...               0.0          #KILLALLZOMBIES   \n",
       "\n",
       "                title_rank  rank current  all_time app_id_y  24_peak  \\\n",
       "0   - Red Obsidian Remnant  2021      10       290   610960      171   \n",
       "1          #KILLALLZOMBIES  5399       1        11   303720        2   \n",
       "\n",
       "                title_x                  title_y  \n",
       "0  Red Obsidian Remnant   - Red Obsidian Remnant  \n",
       "1       #killallzombies          #KILLALLZOMBIES  \n",
       "\n",
       "[2 rows x 36 columns]"
      ]
     },
     "execution_count": 1039,
     "metadata": {},
     "output_type": "execute_result"
    }
   ],
   "source": [
    "final_player.head(2)"
   ]
  },
  {
   "cell_type": "code",
   "execution_count": 1040,
   "metadata": {
    "collapsed": false
   },
   "outputs": [
    {
     "data": {
      "text/plain": [
       "4"
      ]
     },
     "execution_count": 1040,
     "metadata": {},
     "output_type": "execute_result"
    }
   ],
   "source": [
    "sum(pd.isnull(final_player[\"Rdate\"]))"
   ]
  },
  {
   "cell_type": "code",
   "execution_count": 1047,
   "metadata": {
    "collapsed": false
   },
   "outputs": [],
   "source": [
    "final_player[\"str_date\"] = final_player[\"Rdate\"].str.contains(\",\")"
   ]
  },
  {
   "cell_type": "code",
   "execution_count": 1079,
   "metadata": {
    "collapsed": false
   },
   "outputs": [],
   "source": [
    "for i in range(len(final_player)):\n",
    "    if final_player.loc[i, \"str_date\"] is True:\n",
    "        final_player.loc[i,\"DATE\"] = pd.to_datetime(final_player.loc[i,\"Rdate\"], format = \"%b %d, %Y\")\n",
    "    else:\n",
    "        final_player.loc[i,\"DATE\"] = pd.to_datetime(final_player.loc[i,\"Rdate\"], format = \"%b %Y\")"
   ]
  },
  {
   "cell_type": "code",
   "execution_count": 1061,
   "metadata": {
    "collapsed": false
   },
   "outputs": [
    {
     "data": {
      "text/html": [
       "<div>\n",
       "<table border=\"1\" class=\"dataframe\">\n",
       "  <thead>\n",
       "    <tr style=\"text-align: right;\">\n",
       "      <th></th>\n",
       "      <th>mother_node</th>\n",
       "      <th>main_link</th>\n",
       "      <th>no_user</th>\n",
       "      <th>title_steam</th>\n",
       "      <th>url</th>\n",
       "      <th>app_id_x</th>\n",
       "      <th>publish</th>\n",
       "      <th>user_rating</th>\n",
       "      <th>keywords</th>\n",
       "      <th>Rdate</th>\n",
       "      <th>...</th>\n",
       "      <th>title_rank</th>\n",
       "      <th>rank</th>\n",
       "      <th>current</th>\n",
       "      <th>all_time</th>\n",
       "      <th>app_id_y</th>\n",
       "      <th>24_peak</th>\n",
       "      <th>title_x</th>\n",
       "      <th>title_y</th>\n",
       "      <th>str_date</th>\n",
       "      <th>DATE</th>\n",
       "    </tr>\n",
       "  </thead>\n",
       "  <tbody>\n",
       "    <tr>\n",
       "      <th>0</th>\n",
       "      <td>- Red Obsidian Remnant</td>\n",
       "      <td>http://store.steampowered.com/app/610960/?snr=...</td>\n",
       "      <td>- 93% of the 149 user reviews for this game ar...</td>\n",
       "      <td>- Red Obsidian Remnant</td>\n",
       "      <td>http://store.steampowered.com/app/610960/__Red...</td>\n",
       "      <td>610960</td>\n",
       "      <td>Red Obsidian Studio,Beijing New Era Network Te...</td>\n",
       "      <td>Very Positive</td>\n",
       "      <td>\\r\\n\\t\\t\\t\\t\\t\\t\\t\\t\\t\\t\\t\\tEarly Access\\t\\t\\t...</td>\n",
       "      <td>Apr 20, 2017</td>\n",
       "      <td>...</td>\n",
       "      <td>- Red Obsidian Remnant</td>\n",
       "      <td>2021</td>\n",
       "      <td>10</td>\n",
       "      <td>290</td>\n",
       "      <td>610960</td>\n",
       "      <td>171</td>\n",
       "      <td>Red Obsidian Remnant</td>\n",
       "      <td>- Red Obsidian Remnant</td>\n",
       "      <td>True</td>\n",
       "      <td>2017-04-20</td>\n",
       "    </tr>\n",
       "    <tr>\n",
       "      <th>1</th>\n",
       "      <td>#KILLALLZOMBIES</td>\n",
       "      <td>http://store.steampowered.com/app/303720/?snr=...</td>\n",
       "      <td>- 40% of the 15 user reviews for this game are...</td>\n",
       "      <td>#KILLALLZOMBIES</td>\n",
       "      <td>http://store.steampowered.com/app/303720/KILLA...</td>\n",
       "      <td>303720</td>\n",
       "      <td>Beatshapers,8Floor,Beatshapers</td>\n",
       "      <td>NaN</td>\n",
       "      <td>\\r\\n\\t\\t\\t\\t\\t\\t\\t\\t\\t\\t\\t\\tAction\\t\\t\\t\\t\\t\\t...</td>\n",
       "      <td>Aug 10, 2016</td>\n",
       "      <td>...</td>\n",
       "      <td>#KILLALLZOMBIES</td>\n",
       "      <td>5399</td>\n",
       "      <td>1</td>\n",
       "      <td>11</td>\n",
       "      <td>303720</td>\n",
       "      <td>2</td>\n",
       "      <td>#killallzombies</td>\n",
       "      <td>#KILLALLZOMBIES</td>\n",
       "      <td>True</td>\n",
       "      <td>2016-08-10</td>\n",
       "    </tr>\n",
       "  </tbody>\n",
       "</table>\n",
       "<p>2 rows × 38 columns</p>\n",
       "</div>"
      ],
      "text/plain": [
       "               mother_node                                          main_link  \\\n",
       "0   - Red Obsidian Remnant  http://store.steampowered.com/app/610960/?snr=...   \n",
       "1          #KILLALLZOMBIES  http://store.steampowered.com/app/303720/?snr=...   \n",
       "\n",
       "                                             no_user              title_steam  \\\n",
       "0  - 93% of the 149 user reviews for this game ar...   - Red Obsidian Remnant   \n",
       "1  - 40% of the 15 user reviews for this game are...          #KILLALLZOMBIES   \n",
       "\n",
       "                                                 url  app_id_x  \\\n",
       "0  http://store.steampowered.com/app/610960/__Red...    610960   \n",
       "1  http://store.steampowered.com/app/303720/KILLA...    303720   \n",
       "\n",
       "                                             publish    user_rating  \\\n",
       "0  Red Obsidian Studio,Beijing New Era Network Te...  Very Positive   \n",
       "1                     Beatshapers,8Floor,Beatshapers            NaN   \n",
       "\n",
       "                                            keywords         Rdate    ...      \\\n",
       "0  \\r\\n\\t\\t\\t\\t\\t\\t\\t\\t\\t\\t\\t\\tEarly Access\\t\\t\\t...  Apr 20, 2017    ...       \n",
       "1  \\r\\n\\t\\t\\t\\t\\t\\t\\t\\t\\t\\t\\t\\tAction\\t\\t\\t\\t\\t\\t...  Aug 10, 2016    ...       \n",
       "\n",
       "                title_rank  rank current all_time app_id_y  24_peak  \\\n",
       "0   - Red Obsidian Remnant  2021      10      290   610960      171   \n",
       "1          #KILLALLZOMBIES  5399       1       11   303720        2   \n",
       "\n",
       "                title_x                  title_y  str_date       DATE  \n",
       "0  Red Obsidian Remnant   - Red Obsidian Remnant      True 2017-04-20  \n",
       "1       #killallzombies          #KILLALLZOMBIES      True 2016-08-10  \n",
       "\n",
       "[2 rows x 38 columns]"
      ]
     },
     "execution_count": 1061,
     "metadata": {},
     "output_type": "execute_result"
    }
   ],
   "source": [
    "final_player.head(2)"
   ]
  },
  {
   "cell_type": "code",
   "execution_count": 1062,
   "metadata": {
    "collapsed": false
   },
   "outputs": [
    {
     "data": {
      "text/plain": [
       "Index([u'mother_node', u'main_link', u'no_user', u'title_steam', u'url',\n",
       "       u'app_id_x', u'publish', u'user_rating', u'keywords', u'Rdate',\n",
       "       u'critics_review', u'genre', u'list_title', u'desc', u'type',\n",
       "       u'no_links', u'game_spcs', u'percent', u'reivew_users',\n",
       "       u'keywords_list', u'sub', u'genre_list', u'dlc_sub', u'dlc_notsub',\n",
       "       u'mother_dlc', u'no_dlc', u'dlc_av', u'mother_rank', u'title_rank',\n",
       "       u'rank', u'current', u'all_time', u'app_id_y', u'24_peak', u'title_x',\n",
       "       u'title_y', u'str_date', u'DATE'],\n",
       "      dtype='object')"
      ]
     },
     "execution_count": 1062,
     "metadata": {},
     "output_type": "execute_result"
    }
   ],
   "source": [
    "final_player.columns"
   ]
  },
  {
   "cell_type": "code",
   "execution_count": 1071,
   "metadata": {
    "collapsed": false
   },
   "outputs": [
    {
     "data": {
      "text/plain": [
       "datetime.date(2017, 5, 4)"
      ]
     },
     "execution_count": 1071,
     "metadata": {},
     "output_type": "execute_result"
    }
   ],
   "source": [
    "import datetime\n",
    "datetime.date.today()"
   ]
  },
  {
   "cell_type": "code",
   "execution_count": 1084,
   "metadata": {
    "collapsed": false
   },
   "outputs": [],
   "source": [
    "final_player[\"time_diff\"] = datetime.date.today() - final_player[\"DATE\"]"
   ]
  },
  {
   "cell_type": "code",
   "execution_count": 1103,
   "metadata": {
    "collapsed": false
   },
   "outputs": [],
   "source": [
    "for i in range(len(final_player)):\n",
    "    if pd.isnull(final_player[\"time_diff\"]) is False:\n",
    "        final_player.loc[i, \"time_diff_yr\"] = final_player.loc[i,\"time_diff\"].days/365.25"
   ]
  },
  {
   "cell_type": "code",
   "execution_count": 1105,
   "metadata": {
    "collapsed": false
   },
   "outputs": [
    {
     "data": {
      "text/plain": [
       "Index([u'mother_node', u'main_link', u'no_user', u'title_steam', u'url',\n",
       "       u'app_id_x', u'publish', u'user_rating', u'keywords', u'Rdate',\n",
       "       u'critics_review', u'genre', u'list_title', u'desc', u'type',\n",
       "       u'no_links', u'game_spcs', u'percent', u'reivew_users',\n",
       "       u'keywords_list', u'sub', u'genre_list', u'dlc_sub', u'dlc_notsub',\n",
       "       u'mother_dlc', u'no_dlc', u'dlc_av', u'mother_rank', u'title_rank',\n",
       "       u'rank', u'current', u'all_time', u'app_id_y', u'24_peak', u'title_x',\n",
       "       u'title_y', u'str_date', u'DATE', u'time_diff', u'time_diff_yr'],\n",
       "      dtype='object')"
      ]
     },
     "execution_count": 1105,
     "metadata": {},
     "output_type": "execute_result"
    }
   ],
   "source": [
    "final_player.columns"
   ]
  },
  {
   "cell_type": "code",
   "execution_count": 1108,
   "metadata": {
    "collapsed": false
   },
   "outputs": [],
   "source": [
    "final_file = final_player[[\"mother_node\",\"title_steam\",\"app_id_x\",\"user_rating\",\"critics_review\",\"game_spcs\",\"percent\",\"reivew_users\",\"keywords_list\",\"genre_list\",\"no_dlc\",\"dlc_av\",\"rank\",\"current\",\"all_time\",\"24_peak\",\"DATE\",\"time_diff_yr\",\"time_diff\"]]"
   ]
  },
  {
   "cell_type": "code",
   "execution_count": 1112,
   "metadata": {
    "collapsed": false
   },
   "outputs": [
    {
     "data": {
      "text/html": [
       "<div>\n",
       "<table border=\"1\" class=\"dataframe\">\n",
       "  <thead>\n",
       "    <tr style=\"text-align: right;\">\n",
       "      <th></th>\n",
       "      <th>mother_node</th>\n",
       "      <th>title_steam</th>\n",
       "      <th>app_id_x</th>\n",
       "      <th>user_rating</th>\n",
       "      <th>critics_review</th>\n",
       "      <th>game_spcs</th>\n",
       "      <th>percent</th>\n",
       "      <th>reivew_users</th>\n",
       "      <th>keywords_list</th>\n",
       "      <th>genre_list</th>\n",
       "      <th>no_dlc</th>\n",
       "      <th>dlc_av</th>\n",
       "      <th>rank</th>\n",
       "      <th>current</th>\n",
       "      <th>all_time</th>\n",
       "      <th>24_peak</th>\n",
       "      <th>DATE</th>\n",
       "      <th>time_diff_yr</th>\n",
       "      <th>time_diff</th>\n",
       "    </tr>\n",
       "  </thead>\n",
       "  <tbody>\n",
       "    <tr>\n",
       "      <th>0</th>\n",
       "      <td>- Red Obsidian Remnant</td>\n",
       "      <td>- Red Obsidian Remnant</td>\n",
       "      <td>610960</td>\n",
       "      <td>Very Positive</td>\n",
       "      <td>NaN</td>\n",
       "      <td>Single-player,Steam Achievements,Steam Trading...</td>\n",
       "      <td>93.0</td>\n",
       "      <td>149.0</td>\n",
       "      <td>Early Access, Rogue-like, Action, Indie, Adven...</td>\n",
       "      <td>Indie, Adventure, RPG, Action, Early Access</td>\n",
       "      <td>0.0</td>\n",
       "      <td>0.0</td>\n",
       "      <td>2021</td>\n",
       "      <td>10</td>\n",
       "      <td>290</td>\n",
       "      <td>171</td>\n",
       "      <td>2017-04-20</td>\n",
       "      <td>0.038330</td>\n",
       "      <td>14 days</td>\n",
       "    </tr>\n",
       "    <tr>\n",
       "      <th>1</th>\n",
       "      <td>#KILLALLZOMBIES</td>\n",
       "      <td>#KILLALLZOMBIES</td>\n",
       "      <td>303720</td>\n",
       "      <td>NaN</td>\n",
       "      <td>NaN</td>\n",
       "      <td>Single-player,Local Co-op,Shared/Split Screen,...</td>\n",
       "      <td>40.0</td>\n",
       "      <td>15.0</td>\n",
       "      <td>Action, Indie, Zombies</td>\n",
       "      <td>Action, Indie</td>\n",
       "      <td>0.0</td>\n",
       "      <td>0.0</td>\n",
       "      <td>5399</td>\n",
       "      <td>1</td>\n",
       "      <td>11</td>\n",
       "      <td>2</td>\n",
       "      <td>2016-08-10</td>\n",
       "      <td>0.731006</td>\n",
       "      <td>267 days</td>\n",
       "    </tr>\n",
       "  </tbody>\n",
       "</table>\n",
       "</div>"
      ],
      "text/plain": [
       "               mother_node              title_steam  app_id_x    user_rating  \\\n",
       "0   - Red Obsidian Remnant   - Red Obsidian Remnant    610960  Very Positive   \n",
       "1          #KILLALLZOMBIES          #KILLALLZOMBIES    303720            NaN   \n",
       "\n",
       "  critics_review                                          game_spcs  percent  \\\n",
       "0            NaN  Single-player,Steam Achievements,Steam Trading...     93.0   \n",
       "1            NaN  Single-player,Local Co-op,Shared/Split Screen,...     40.0   \n",
       "\n",
       "   reivew_users                                      keywords_list  \\\n",
       "0         149.0  Early Access, Rogue-like, Action, Indie, Adven...   \n",
       "1          15.0                             Action, Indie, Zombies   \n",
       "\n",
       "                                    genre_list  no_dlc  dlc_av  rank current  \\\n",
       "0  Indie, Adventure, RPG, Action, Early Access     0.0     0.0  2021      10   \n",
       "1                                Action, Indie     0.0     0.0  5399       1   \n",
       "\n",
       "  all_time 24_peak       DATE  time_diff_yr  time_diff  \n",
       "0      290     171 2017-04-20      0.038330    14 days  \n",
       "1       11       2 2016-08-10      0.731006   267 days  "
      ]
     },
     "execution_count": 1112,
     "metadata": {},
     "output_type": "execute_result"
    }
   ],
   "source": [
    "final_file.head(2)"
   ]
  },
  {
   "cell_type": "code",
   "execution_count": 1113,
   "metadata": {
    "collapsed": false
   },
   "outputs": [],
   "source": [
    "final_file.to_csv(\"/Users/jasonchiu0803/Desktop/data_bootcamp/Python Introduction/cleaned_data.csv\")"
   ]
  },
  {
   "cell_type": "code",
   "execution_count": 1117,
   "metadata": {
    "collapsed": false
   },
   "outputs": [],
   "source": [
    "keyword_dict = dict()"
   ]
  },
  {
   "cell_type": "code",
   "execution_count": 1116,
   "metadata": {
    "collapsed": false
   },
   "outputs": [
    {
     "data": {
      "text/plain": [
       "Index([u'mother_node', u'title_steam', u'app_id_x', u'user_rating',\n",
       "       u'critics_review', u'game_spcs', u'percent', u'reivew_users',\n",
       "       u'keywords_list', u'genre_list', u'no_dlc', u'dlc_av', u'rank',\n",
       "       u'current', u'all_time', u'24_peak', u'DATE', u'time_diff_yr',\n",
       "       u'time_diff'],\n",
       "      dtype='object')"
      ]
     },
     "execution_count": 1116,
     "metadata": {},
     "output_type": "execute_result"
    }
   ],
   "source": [
    "final_file.columns"
   ]
  },
  {
   "cell_type": "code",
   "execution_count": 1122,
   "metadata": {
    "collapsed": false
   },
   "outputs": [],
   "source": [
    "for i in range(len(final_file)):\n",
    "    a = final_file.loc[i,\"keywords_list\"].split(\", \")\n",
    "    for i in a:\n",
    "        if i not in keyword_dict:\n",
    "            keyword_dict[i] = 1\n",
    "        if i in keyword_dict:\n",
    "            keyword_dict[i] = keyword_dict[i] + 1"
   ]
  },
  {
   "cell_type": "code",
   "execution_count": 1123,
   "metadata": {
    "collapsed": false
   },
   "outputs": [
    {
     "data": {
      "text/plain": [
       "{'1980s': 23,\n",
       " \"1990's\": 61,\n",
       " '2.5D': 30,\n",
       " '2D': 547,\n",
       " '2D Fighter': 36,\n",
       " '3D Platformer': 51,\n",
       " '3D Vision': 39,\n",
       " '4 Player Local': 61,\n",
       " '4X': 62,\n",
       " '6DOF': 9,\n",
       " 'Abstract': 22,\n",
       " 'Action': 1758,\n",
       " 'Action RPG': 146,\n",
       " 'Action-Adventure': 63,\n",
       " 'Adventure': 1641,\n",
       " 'Agriculture': 10,\n",
       " 'Aliens': 63,\n",
       " 'Alternate History': 28,\n",
       " 'America': 15,\n",
       " 'Animation & Modeling': 24,\n",
       " 'Anime': 311,\n",
       " 'Arcade': 182,\n",
       " 'Arena Shooter': 28,\n",
       " 'Artificial Intelligence': 3,\n",
       " 'Assassin': 25,\n",
       " 'Asynchronous Multiplayer': 10,\n",
       " 'Atmospheric': 773,\n",
       " 'Audio Production': 9,\n",
       " 'Base Building': 78,\n",
       " 'Based On A Novel': 13,\n",
       " 'Basketball': 3,\n",
       " 'Batman': 11,\n",
       " \"Beat 'em up\": 70,\n",
       " 'Benchmark': 6,\n",
       " 'Blood': 27,\n",
       " 'Board Game': 52,\n",
       " 'Bowling': 3,\n",
       " 'Building': 162,\n",
       " 'Bullet Hell': 59,\n",
       " 'Bullet Time': 18,\n",
       " 'CRPG': 40,\n",
       " 'Capitalism': 8,\n",
       " 'Card Game': 43,\n",
       " 'Cartoon': 16,\n",
       " 'Cartoony': 31,\n",
       " 'Casual': 936,\n",
       " 'Character Action Game': 14,\n",
       " 'Character Customization': 85,\n",
       " 'Chess': 10,\n",
       " 'Choices Matter': 91,\n",
       " 'Choose Your Own Adventure': 70,\n",
       " 'Cinematic': 23,\n",
       " 'City Builder': 70,\n",
       " 'Class-Based': 16,\n",
       " 'Classic': 384,\n",
       " 'Clicker': 11,\n",
       " 'Co-op': 501,\n",
       " 'Co-op Campaign': 11,\n",
       " 'Cold War': 22,\n",
       " 'Colorful': 71,\n",
       " 'Comedy': 326,\n",
       " 'Comic Book': 19,\n",
       " 'Competitive': 71,\n",
       " 'Conspiracy': 11,\n",
       " 'Controller': 149,\n",
       " 'Conversation': 2,\n",
       " 'Crafting': 140,\n",
       " 'Crime': 42,\n",
       " 'Crowdfunded': 17,\n",
       " 'Cult Classic': 48,\n",
       " 'Cute': 187,\n",
       " 'Cyberpunk': 57,\n",
       " 'Dark': 131,\n",
       " 'Dark Comedy': 8,\n",
       " 'Dark Fantasy': 76,\n",
       " 'Dark Humor': 49,\n",
       " 'Dating Sim': 65,\n",
       " 'Demons': 20,\n",
       " 'Design & Illustration': 37,\n",
       " 'Destruction': 41,\n",
       " 'Detective': 48,\n",
       " 'Difficult': 434,\n",
       " 'Dinosaurs': 23,\n",
       " 'Diplomacy': 11,\n",
       " 'Dragons': 25,\n",
       " 'Drama': 21,\n",
       " 'Driving': 63,\n",
       " 'Dungeon Crawler': 88,\n",
       " 'Dynamic Narration': 10,\n",
       " 'Dystopian': 30,\n",
       " 'Early Access': 336,\n",
       " 'Economy': 76,\n",
       " 'Education': 55,\n",
       " 'Episodic': 33,\n",
       " 'Experience': 2,\n",
       " 'Experimental': 23,\n",
       " 'Exploration': 246,\n",
       " 'FMV': 20,\n",
       " 'FPS': 340,\n",
       " 'Family Friendly': 194,\n",
       " 'Fantasy': 438,\n",
       " 'Fast-Paced': 91,\n",
       " 'Female Protagonist': 360,\n",
       " 'Fighting': 75,\n",
       " 'First-Person': 422,\n",
       " 'Fishing': 13,\n",
       " 'Flight': 28,\n",
       " 'Football': 12,\n",
       " 'Foreign': 2,\n",
       " 'Free to Play': 36,\n",
       " 'Funny': 390,\n",
       " 'Futuristic': 56,\n",
       " 'Gambling': 3,\n",
       " 'Game Development': 21,\n",
       " 'GameMaker': 18,\n",
       " 'Games Workshop': 27,\n",
       " 'God Game': 22,\n",
       " 'Golf': 7,\n",
       " 'Gore': 281,\n",
       " 'Gothic': 24,\n",
       " 'Grand Strategy': 69,\n",
       " 'Great Soundtrack': 821,\n",
       " 'Grid-Based Movement': 15,\n",
       " 'Gun Customization': 5,\n",
       " 'Hack and Slash': 128,\n",
       " 'Hacking': 20,\n",
       " 'Hand-drawn': 24,\n",
       " 'Heist': 16,\n",
       " 'Hex Grid': 24,\n",
       " 'Hidden Object': 76,\n",
       " 'Historical': 165,\n",
       " 'Horror': 390,\n",
       " 'Horses': 9,\n",
       " 'Hunting': 20,\n",
       " 'Illuminati': 54,\n",
       " 'Indie': 1996,\n",
       " 'Intentionally Awkward Controls': 2,\n",
       " 'Interactive Fiction': 37,\n",
       " 'Inventory Management': 14,\n",
       " 'Investigation': 5,\n",
       " 'Isometric': 110,\n",
       " 'JRPG': 102,\n",
       " 'Kickstarter': 61,\n",
       " 'LEGO': 16,\n",
       " 'Lara Croft': 13,\n",
       " 'Lemmings': 3,\n",
       " 'Level Editor': 43,\n",
       " 'Linear': 31,\n",
       " 'Local Co-Op': 180,\n",
       " 'Local Multiplayer': 143,\n",
       " 'Loot': 42,\n",
       " 'Lore-Rich': 13,\n",
       " 'Lovecraftian': 29,\n",
       " 'MMORPG': 23,\n",
       " 'MOBA': 8,\n",
       " 'Magic': 63,\n",
       " 'Management': 150,\n",
       " 'Mars': 10,\n",
       " 'Martial Arts': 11,\n",
       " 'Massively Multiplayer': 91,\n",
       " 'Match 3': 17,\n",
       " 'Mature': 113,\n",
       " 'Mechs': 25,\n",
       " 'Medieval': 95,\n",
       " 'Memes': 151,\n",
       " 'Metroidvania': 56,\n",
       " 'Military': 86,\n",
       " 'Mini Golf': 7,\n",
       " 'Minimalist': 57,\n",
       " 'Mining': 6,\n",
       " 'Mod': 11,\n",
       " 'Moddable': 148,\n",
       " 'Modern': 10,\n",
       " 'Mouse only': 13,\n",
       " 'Movie': 5,\n",
       " 'Multiplayer': 907,\n",
       " 'Multiple Endings': 60,\n",
       " 'Music': 44,\n",
       " 'Music-Based Procedural Generation': 10,\n",
       " 'Mystery': 118,\n",
       " 'Mystery Dungeon': 2,\n",
       " 'Mythology': 12,\n",
       " 'NSFW': 4,\n",
       " 'Narration': 17,\n",
       " 'Naval': 34,\n",
       " 'Ninja': 22,\n",
       " 'Noir': 22,\n",
       " 'Nonlinear': 6,\n",
       " 'Nudity': 193,\n",
       " 'Offroad': 11,\n",
       " 'On-Rails Shooter': 7,\n",
       " 'Online Co-Op': 168,\n",
       " 'Open World': 535,\n",
       " 'Otome': 16,\n",
       " 'Parkour': 62,\n",
       " 'Parody': 20,\n",
       " 'Party-Based RPG': 35,\n",
       " 'Perma Death': 58,\n",
       " 'Philisophical': 8,\n",
       " 'Photo Editing': 9,\n",
       " 'Physics': 121,\n",
       " 'Pirates': 36,\n",
       " 'Pixel Graphics': 335,\n",
       " 'Platformer': 290,\n",
       " 'Point & Click': 217,\n",
       " 'Political': 18,\n",
       " 'Politics': 23,\n",
       " 'Pool': 4,\n",
       " 'Post-apocalyptic': 91,\n",
       " 'Procedural Generation': 70,\n",
       " 'Programming': 17,\n",
       " 'Psychedelic': 10,\n",
       " 'Psychological': 18,\n",
       " 'Psychological Horror': 137,\n",
       " 'Puzzle': 443,\n",
       " 'Puzzle-Platformer': 73,\n",
       " 'PvE': 8,\n",
       " 'PvP': 56,\n",
       " 'Quick-Time Events': 23,\n",
       " 'RPG': 846,\n",
       " 'RPGMaker': 84,\n",
       " 'RTS': 195,\n",
       " 'Racing': 135,\n",
       " 'Real Time Tactics': 28,\n",
       " 'Real-Time': 35,\n",
       " 'Real-Time with Pause': 59,\n",
       " 'Realistic': 125,\n",
       " 'Relaxing': 75,\n",
       " 'Remake': 69,\n",
       " 'Replay Value': 161,\n",
       " 'Resource Management': 51,\n",
       " 'Retro': 242,\n",
       " 'Rhythm': 26,\n",
       " 'Robots': 57,\n",
       " 'Rogue-like': 179,\n",
       " 'Rogue-lite': 95,\n",
       " 'Romance': 60,\n",
       " 'Rome': 20,\n",
       " 'Runner': 12,\n",
       " 'Sailing': 15,\n",
       " 'Sandbox': 373,\n",
       " 'Satire': 18,\n",
       " 'Sci-fi': 455,\n",
       " 'Science': 17,\n",
       " 'Score Attack': 11,\n",
       " 'Sexual Content': 91,\n",
       " \"Shoot 'Em Up\": 86,\n",
       " 'Shooter': 405,\n",
       " 'Short': 111,\n",
       " 'Side Scroller': 112,\n",
       " 'Silent Protagonist': 12,\n",
       " 'Simulation': 876,\n",
       " 'Singleplayer': 1700,\n",
       " 'Sniper': 10,\n",
       " 'Soccer': 8,\n",
       " 'Software': 19,\n",
       " 'Software Training': 11,\n",
       " 'Sokoban': 3,\n",
       " 'Soundtrack': 12,\n",
       " 'Space': 214,\n",
       " 'Space Sim': 36,\n",
       " 'Spectacle fighter': 17,\n",
       " 'Spelling': 4,\n",
       " 'Split Screen': 32,\n",
       " 'Sports': 154,\n",
       " 'Star Wars': 26,\n",
       " 'Stealth': 144,\n",
       " 'Steam Machine': 2,\n",
       " 'Steampunk': 56,\n",
       " 'Story Rich': 522,\n",
       " 'Strategy': 1044,\n",
       " 'Strategy RPG': 22,\n",
       " 'Stylized': 34,\n",
       " 'Superhero': 27,\n",
       " 'Supernatural': 14,\n",
       " 'Surreal': 62,\n",
       " 'Survival': 332,\n",
       " 'Survival Horror': 119,\n",
       " 'Swordplay': 20,\n",
       " 'Tactical': 200,\n",
       " 'Tactical RPG': 26,\n",
       " 'Tanks': 24,\n",
       " 'Team-Based': 53,\n",
       " 'Text-Based': 35,\n",
       " 'Third Person': 312,\n",
       " 'Third-Person Shooter': 112,\n",
       " 'Thriller': 13,\n",
       " 'Time Attack': 5,\n",
       " 'Time Manipulation': 9,\n",
       " 'Time Travel': 22,\n",
       " 'Top-Down': 84,\n",
       " 'Top-Down Shooter': 31,\n",
       " 'Touch-Friendly': 43,\n",
       " 'Tower Defense': 70,\n",
       " 'TrackIR': 15,\n",
       " 'Trading': 20,\n",
       " 'Trading Card Game': 12,\n",
       " 'Trains': 16,\n",
       " 'Transhumanism': 5,\n",
       " 'Turn-Based': 273,\n",
       " 'Turn-Based Combat': 66,\n",
       " 'Turn-Based Strategy': 156,\n",
       " 'Turn-Based Tactics': 46,\n",
       " 'Twin Stick Shooter': 27,\n",
       " 'Typing': 11,\n",
       " 'Underground': 2,\n",
       " 'Underwater': 19,\n",
       " 'Utilities': 41,\n",
       " 'VR': 181,\n",
       " 'Vampire': 16,\n",
       " 'Video Production': 15,\n",
       " 'Villain Protagonist': 19,\n",
       " 'Violent': 146,\n",
       " 'Visual Novel': 144,\n",
       " 'Voice Control': 4,\n",
       " 'Voxel': 31,\n",
       " 'Walking Simulator': 90,\n",
       " 'War': 115,\n",
       " 'Wargame': 31,\n",
       " 'Warhammer 40K': 22,\n",
       " 'Web Publishing': 13,\n",
       " 'Werewolves': 3,\n",
       " 'Western': 19,\n",
       " 'Word Game': 6,\n",
       " 'World War I': 10,\n",
       " 'World War II': 86,\n",
       " 'Wrestling': 4,\n",
       " 'Zombies': 169,\n",
       " 'e-sports': 17,\n",
       " 'nan': 3}"
      ]
     },
     "execution_count": 1123,
     "metadata": {},
     "output_type": "execute_result"
    }
   ],
   "source": [
    "keyword_dict"
   ]
  },
  {
   "cell_type": "code",
   "execution_count": 1140,
   "metadata": {
    "collapsed": false
   },
   "outputs": [],
   "source": [
    "a = pd.DataFrame(keyword_dict.items(),columns = [\"keywords\",\"count\"]).sort_values(\"count\",ascending= False)"
   ]
  },
  {
   "cell_type": "code",
   "execution_count": 1141,
   "metadata": {
    "collapsed": false
   },
   "outputs": [],
   "source": [
    "a.to_csv(\"./full_keyword.csv\",index = False)"
   ]
  },
  {
   "cell_type": "code",
   "execution_count": 1134,
   "metadata": {
    "collapsed": true
   },
   "outputs": [],
   "source": [
    "genre_dict = dict()"
   ]
  },
  {
   "cell_type": "code",
   "execution_count": 1142,
   "metadata": {
    "collapsed": true
   },
   "outputs": [],
   "source": [
    "for i in range(len(final_file)):\n",
    "    c = final_file.loc[i,\"genre_list\"].split(\", \")\n",
    "    for i in a:\n",
    "        if i not in genre_dict:\n",
    "            genre_dict[i] = 1\n",
    "        if i in genre_dict:\n",
    "            genre_dict[i] = genre_dict[i] + 1"
   ]
  },
  {
   "cell_type": "code",
   "execution_count": 1143,
   "metadata": {
    "collapsed": true
   },
   "outputs": [],
   "source": [
    "b = pd.DataFrame(genre_dict.items(),columns = [\"genre\",\"count\"]).sort_values(\"count\",ascending= False)"
   ]
  },
  {
   "cell_type": "code",
   "execution_count": 1144,
   "metadata": {
    "collapsed": false
   },
   "outputs": [],
   "source": [
    "b.to_csv(\"./full_genre.csv\",index = False)"
   ]
  },
  {
   "cell_type": "code",
   "execution_count": 1145,
   "metadata": {
    "collapsed": false
   },
   "outputs": [
    {
     "data": {
      "text/html": [
       "<div>\n",
       "<table border=\"1\" class=\"dataframe\">\n",
       "  <thead>\n",
       "    <tr style=\"text-align: right;\">\n",
       "      <th></th>\n",
       "      <th>genre</th>\n",
       "      <th>count</th>\n",
       "    </tr>\n",
       "  </thead>\n",
       "  <tbody>\n",
       "    <tr>\n",
       "      <th>19</th>\n",
       "      <td>count</td>\n",
       "      <td>3359</td>\n",
       "    </tr>\n",
       "    <tr>\n",
       "      <th>1</th>\n",
       "      <td>keywords</td>\n",
       "      <td>3359</td>\n",
       "    </tr>\n",
       "    <tr>\n",
       "      <th>21</th>\n",
       "      <td>Indie</td>\n",
       "      <td>1861</td>\n",
       "    </tr>\n",
       "    <tr>\n",
       "      <th>15</th>\n",
       "      <td>Action</td>\n",
       "      <td>1495</td>\n",
       "    </tr>\n",
       "    <tr>\n",
       "      <th>8</th>\n",
       "      <td>Adventure</td>\n",
       "      <td>1204</td>\n",
       "    </tr>\n",
       "    <tr>\n",
       "      <th>0</th>\n",
       "      <td>Strategy</td>\n",
       "      <td>866</td>\n",
       "    </tr>\n",
       "    <tr>\n",
       "      <th>3</th>\n",
       "      <td>Casual</td>\n",
       "      <td>728</td>\n",
       "    </tr>\n",
       "    <tr>\n",
       "      <th>9</th>\n",
       "      <td>RPG</td>\n",
       "      <td>708</td>\n",
       "    </tr>\n",
       "    <tr>\n",
       "      <th>13</th>\n",
       "      <td>Simulation</td>\n",
       "      <td>705</td>\n",
       "    </tr>\n",
       "    <tr>\n",
       "      <th>17</th>\n",
       "      <td>Early Access</td>\n",
       "      <td>336</td>\n",
       "    </tr>\n",
       "    <tr>\n",
       "      <th>16</th>\n",
       "      <td>Sports</td>\n",
       "      <td>141</td>\n",
       "    </tr>\n",
       "    <tr>\n",
       "      <th>24</th>\n",
       "      <td>Violent</td>\n",
       "      <td>116</td>\n",
       "    </tr>\n",
       "    <tr>\n",
       "      <th>4</th>\n",
       "      <td>Racing</td>\n",
       "      <td>113</td>\n",
       "    </tr>\n",
       "    <tr>\n",
       "      <th>11</th>\n",
       "      <td>Gore</td>\n",
       "      <td>73</td>\n",
       "    </tr>\n",
       "    <tr>\n",
       "      <th>22</th>\n",
       "      <td>Nudity</td>\n",
       "      <td>66</td>\n",
       "    </tr>\n",
       "    <tr>\n",
       "      <th>10</th>\n",
       "      <td>Massively Multiplayer</td>\n",
       "      <td>62</td>\n",
       "    </tr>\n",
       "    <tr>\n",
       "      <th>23</th>\n",
       "      <td>Sexual Content</td>\n",
       "      <td>52</td>\n",
       "    </tr>\n",
       "    <tr>\n",
       "      <th>7</th>\n",
       "      <td>Utilities</td>\n",
       "      <td>38</td>\n",
       "    </tr>\n",
       "    <tr>\n",
       "      <th>20</th>\n",
       "      <td>Design &amp; Illustration</td>\n",
       "      <td>33</td>\n",
       "    </tr>\n",
       "    <tr>\n",
       "      <th>2</th>\n",
       "      <td>Animation &amp; Modeling</td>\n",
       "      <td>20</td>\n",
       "    </tr>\n",
       "    <tr>\n",
       "      <th>12</th>\n",
       "      <td>Video Production</td>\n",
       "      <td>13</td>\n",
       "    </tr>\n",
       "    <tr>\n",
       "      <th>26</th>\n",
       "      <td>Education</td>\n",
       "      <td>13</td>\n",
       "    </tr>\n",
       "    <tr>\n",
       "      <th>25</th>\n",
       "      <td>Web Publishing</td>\n",
       "      <td>12</td>\n",
       "    </tr>\n",
       "    <tr>\n",
       "      <th>14</th>\n",
       "      <td>Software Training</td>\n",
       "      <td>10</td>\n",
       "    </tr>\n",
       "    <tr>\n",
       "      <th>18</th>\n",
       "      <td>Audio Production</td>\n",
       "      <td>9</td>\n",
       "    </tr>\n",
       "    <tr>\n",
       "      <th>27</th>\n",
       "      <td>Photo Editing</td>\n",
       "      <td>9</td>\n",
       "    </tr>\n",
       "    <tr>\n",
       "      <th>5</th>\n",
       "      <td>Free to Play</td>\n",
       "      <td>4</td>\n",
       "    </tr>\n",
       "    <tr>\n",
       "      <th>6</th>\n",
       "      <td>nan</td>\n",
       "      <td>3</td>\n",
       "    </tr>\n",
       "  </tbody>\n",
       "</table>\n",
       "</div>"
      ],
      "text/plain": [
       "                    genre  count\n",
       "19                  count   3359\n",
       "1                keywords   3359\n",
       "21                  Indie   1861\n",
       "15                 Action   1495\n",
       "8               Adventure   1204\n",
       "0                Strategy    866\n",
       "3                  Casual    728\n",
       "9                     RPG    708\n",
       "13             Simulation    705\n",
       "17           Early Access    336\n",
       "16                 Sports    141\n",
       "24                Violent    116\n",
       "4                  Racing    113\n",
       "11                   Gore     73\n",
       "22                 Nudity     66\n",
       "10  Massively Multiplayer     62\n",
       "23         Sexual Content     52\n",
       "7               Utilities     38\n",
       "20  Design & Illustration     33\n",
       "2    Animation & Modeling     20\n",
       "12       Video Production     13\n",
       "26              Education     13\n",
       "25         Web Publishing     12\n",
       "14      Software Training     10\n",
       "18       Audio Production      9\n",
       "27          Photo Editing      9\n",
       "5            Free to Play      4\n",
       "6                     nan      3"
      ]
     },
     "execution_count": 1145,
     "metadata": {},
     "output_type": "execute_result"
    }
   ],
   "source": [
    "b"
   ]
  },
  {
   "cell_type": "code",
   "execution_count": null,
   "metadata": {
    "collapsed": false
   },
   "outputs": [],
   "source": []
  },
  {
   "cell_type": "code",
   "execution_count": null,
   "metadata": {
    "collapsed": true
   },
   "outputs": [],
   "source": []
  },
  {
   "cell_type": "code",
   "execution_count": null,
   "metadata": {
    "collapsed": false
   },
   "outputs": [],
   "source": []
  },
  {
   "cell_type": "code",
   "execution_count": null,
   "metadata": {
    "collapsed": false
   },
   "outputs": [],
   "source": []
  },
  {
   "cell_type": "code",
   "execution_count": null,
   "metadata": {
    "collapsed": false
   },
   "outputs": [],
   "source": []
  },
  {
   "cell_type": "code",
   "execution_count": null,
   "metadata": {
    "collapsed": false
   },
   "outputs": [],
   "source": []
  },
  {
   "cell_type": "code",
   "execution_count": null,
   "metadata": {
    "collapsed": true
   },
   "outputs": [],
   "source": []
  },
  {
   "cell_type": "code",
   "execution_count": null,
   "metadata": {
    "collapsed": false
   },
   "outputs": [],
   "source": []
  },
  {
   "cell_type": "code",
   "execution_count": null,
   "metadata": {
    "collapsed": true
   },
   "outputs": [],
   "source": []
  }
 ],
 "metadata": {
  "anaconda-cloud": {},
  "kernelspec": {
   "display_name": "Python [conda root]",
   "language": "python",
   "name": "conda-root-py"
  },
  "language_info": {
   "codemirror_mode": {
    "name": "ipython",
    "version": 2
   },
   "file_extension": ".py",
   "mimetype": "text/x-python",
   "name": "python",
   "nbconvert_exporter": "python",
   "pygments_lexer": "ipython2",
   "version": "2.7.12"
  }
 },
 "nbformat": 4,
 "nbformat_minor": 1
}
