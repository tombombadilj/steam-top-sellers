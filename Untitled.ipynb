{
 "cells": [
  {
   "cell_type": "code",
   "execution_count": 118,
   "metadata": {
    "collapsed": true
   },
   "outputs": [],
   "source": [
    "import pandas as pd\n",
    "import numpy as np\n",
    "import re"
   ]
  },
  {
   "cell_type": "code",
   "execution_count": 119,
   "metadata": {
    "collapsed": true
   },
   "outputs": [],
   "source": [
    "%matplotlib inline\n",
    "from matplotlib import pyplot as plt\n",
    "import seaborn as sns"
   ]
  },
  {
   "cell_type": "code",
   "execution_count": 100,
   "metadata": {
    "collapsed": false
   },
   "outputs": [],
   "source": [
    "data = pd.read_csv(\"./cleaned_data.csv\")"
   ]
  },
  {
   "cell_type": "code",
   "execution_count": 101,
   "metadata": {
    "collapsed": false
   },
   "outputs": [
    {
     "data": {
      "text/html": [
       "<div>\n",
       "<table border=\"1\" class=\"dataframe\">\n",
       "  <thead>\n",
       "    <tr style=\"text-align: right;\">\n",
       "      <th></th>\n",
       "      <th>Unnamed: 0</th>\n",
       "      <th>mother_node</th>\n",
       "      <th>title_steam</th>\n",
       "      <th>app_id</th>\n",
       "      <th>user_rating</th>\n",
       "      <th>game_spcs</th>\n",
       "      <th>percent</th>\n",
       "      <th>reivew_users</th>\n",
       "      <th>keywords_list</th>\n",
       "      <th>genre_list</th>\n",
       "      <th>...</th>\n",
       "      <th>War</th>\n",
       "      <th>Survival Horror</th>\n",
       "      <th>Short</th>\n",
       "      <th>Mystery</th>\n",
       "      <th>JRPG</th>\n",
       "      <th>Third-Person Shooter</th>\n",
       "      <th>Fast-Paced</th>\n",
       "      <th>Rogue-lite</th>\n",
       "      <th>Military</th>\n",
       "      <th>total_key</th>\n",
       "    </tr>\n",
       "  </thead>\n",
       "  <tbody>\n",
       "    <tr>\n",
       "      <th>0</th>\n",
       "      <td>0</td>\n",
       "      <td>- Red Obsidian Remnant</td>\n",
       "      <td>- Red Obsidian Remnant</td>\n",
       "      <td>610960</td>\n",
       "      <td>Very Positive</td>\n",
       "      <td>Single-player,Steam Achievements,Steam Trading...</td>\n",
       "      <td>93.0</td>\n",
       "      <td>163.0</td>\n",
       "      <td>Early Access, Rogue-like, Action, Indie, Adven...</td>\n",
       "      <td>Indie, Adventure, RPG, Action, Early Access</td>\n",
       "      <td>...</td>\n",
       "      <td>0.0</td>\n",
       "      <td>0.0</td>\n",
       "      <td>0.0</td>\n",
       "      <td>0.0</td>\n",
       "      <td>0.0</td>\n",
       "      <td>0.0</td>\n",
       "      <td>0.0</td>\n",
       "      <td>0.0</td>\n",
       "      <td>0.0</td>\n",
       "      <td>6.0</td>\n",
       "    </tr>\n",
       "  </tbody>\n",
       "</table>\n",
       "<p>1 rows × 103 columns</p>\n",
       "</div>"
      ],
      "text/plain": [
       "   Unnamed: 0              mother_node              title_steam  app_id  \\\n",
       "0           0   - Red Obsidian Remnant   - Red Obsidian Remnant  610960   \n",
       "\n",
       "     user_rating                                          game_spcs  percent  \\\n",
       "0  Very Positive  Single-player,Steam Achievements,Steam Trading...     93.0   \n",
       "\n",
       "   reivew_users                                      keywords_list  \\\n",
       "0         163.0  Early Access, Rogue-like, Action, Indie, Adven...   \n",
       "\n",
       "                                    genre_list    ...      War  \\\n",
       "0  Indie, Adventure, RPG, Action, Early Access    ...      0.0   \n",
       "\n",
       "   Survival Horror  Short  Mystery  JRPG  Third-Person Shooter Fast-Paced  \\\n",
       "0              0.0    0.0      0.0   0.0                   0.0        0.0   \n",
       "\n",
       "   Rogue-lite  Military  total_key  \n",
       "0         0.0       0.0        6.0  \n",
       "\n",
       "[1 rows x 103 columns]"
      ]
     },
     "execution_count": 101,
     "metadata": {},
     "output_type": "execute_result"
    }
   ],
   "source": [
    "data.head(1)"
   ]
  },
  {
   "cell_type": "code",
   "execution_count": 102,
   "metadata": {
    "collapsed": false
   },
   "outputs": [],
   "source": [
    "data.drop(\"Unnamed: 0\", axis=1,inplace=True)"
   ]
  },
  {
   "cell_type": "code",
   "execution_count": 103,
   "metadata": {
    "collapsed": false
   },
   "outputs": [
    {
     "data": {
      "text/plain": [
       "array(['mother_node', 'title_steam', 'app_id', 'user_rating', 'game_spcs',\n",
       "       'percent', 'reivew_users', 'keywords_list', 'genre_list', 'no_dlc',\n",
       "       'dlc_av', 'rank_no', 'current', 'all_time', '24_peak', 'time_diff',\n",
       "       'price', 'Indie', 'Action', 'Singleplayer', 'Adventure', 'Strategy',\n",
       "       'Multiplayer', 'Casual', 'Great Soundtrack', 'Simulation', 'RPG',\n",
       "       'Atmospheric', 'Story Rich', 'Open World', '2D', 'Co-op', 'Sci-fi',\n",
       "       'Fantasy', 'Puzzle', 'First-Person', 'Shooter', 'Difficult',\n",
       "       'Funny', 'Classic', 'Sandbox', 'Horror', 'Female Protagonist',\n",
       "       'FPS', 'Early Access', 'Pixel Graphics', 'Comedy', 'Survival',\n",
       "       'Third Person', 'Anime', 'Platformer', 'Gore', 'Turn-Based',\n",
       "       'Exploration', 'Retro', 'Tactical', 'Family Friendly', 'Arcade',\n",
       "       'Space', 'Cute', 'Point & Click', 'Local Co-Op', 'Nudity',\n",
       "       'Rogue-like', 'Online Co-Op', 'VR', 'RTS', 'Replay Value',\n",
       "       'Controller', 'Zombies', 'Memes', 'Action RPG', 'Violent',\n",
       "       'Hack and Slash', 'Building', 'Historical', 'Local Multiplayer',\n",
       "       'Management', 'Turn-Based Strategy', 'Moddable', 'Stealth',\n",
       "       'Visual Novel', 'Psychological Horror', 'Crafting', 'Sports',\n",
       "       'Racing', 'Isometric', 'Side Scroller', 'Physics', 'Realistic',\n",
       "       'Dark', 'Mature', 'War', 'Survival Horror', 'Short', 'Mystery',\n",
       "       'JRPG', 'Third-Person Shooter', 'Fast-Paced', 'Rogue-lite',\n",
       "       'Military', 'total_key'], dtype=object)"
      ]
     },
     "execution_count": 103,
     "metadata": {},
     "output_type": "execute_result"
    }
   ],
   "source": [
    "data.columns.values"
   ]
  },
  {
   "cell_type": "code",
   "execution_count": 104,
   "metadata": {
    "collapsed": false
   },
   "outputs": [],
   "source": [
    "data.sort_values(by = \"rank_no\",inplace=True)"
   ]
  },
  {
   "cell_type": "code",
   "execution_count": 105,
   "metadata": {
    "collapsed": false
   },
   "outputs": [],
   "source": [
    "data = data.reset_index().drop(\"index\",axis = 1)"
   ]
  },
  {
   "cell_type": "code",
   "execution_count": 106,
   "metadata": {
    "collapsed": false
   },
   "outputs": [],
   "source": [
    "for i in range(len(data)):\n",
    "    data.loc[i,\"sales_rank\"] = len(data)-i"
   ]
  },
  {
   "cell_type": "code",
   "execution_count": 107,
   "metadata": {
    "collapsed": false
   },
   "outputs": [],
   "source": [
    "data[\"ratio\"] = data[\"current\"]/data[\"all_time\"]"
   ]
  },
  {
   "cell_type": "code",
   "execution_count": 110,
   "metadata": {
    "collapsed": false
   },
   "outputs": [],
   "source": [
    "a = data[[\"mother_node\",\"ratio\",\"sales_rank\",\"price\",\"time_diff\",\"no_dlc\",\"current\",\"all_time\"]].sort_values(by = \"ratio\",ascending = False)"
   ]
  },
  {
   "cell_type": "code",
   "execution_count": 117,
   "metadata": {
    "collapsed": false
   },
   "outputs": [
    {
     "data": {
      "text/plain": [
       "(array([  2.50600000e+03,   1.83000000e+02,   9.30000000e+01,\n",
       "          5.80000000e+01,   3.40000000e+01,   2.00000000e+01,\n",
       "          2.10000000e+01,   1.20000000e+01,   1.80000000e+01,\n",
       "          9.00000000e+00,   1.00000000e+01,   4.00000000e+00,\n",
       "          7.00000000e+00,   6.00000000e+00,   8.00000000e+00,\n",
       "          2.00000000e+00,   6.00000000e+00,   0.00000000e+00,\n",
       "          0.00000000e+00,   0.00000000e+00]),\n",
       " array([    0.,   100.,   200.,   300.,   400.,   500.,   600.,   700.,\n",
       "          800.,   900.,  1000.,  1100.,  1200.,  1300.,  1400.,  1500.,\n",
       "         1600.,  1700.,  1800.,  1900.,  2000.]),\n",
       " <a list of 20 Patch objects>)"
      ]
     },
     "execution_count": 117,
     "metadata": {},
     "output_type": "execute_result"
    },
    {
     "data": {
      "image/png": "[encoded data removed]",
      "text/plain": [
       "<matplotlib.figure.Figure at 0x11aaa5c50>"
      ]
     },
     "metadata": {},
     "output_type": "display_data"
    }
   ],
   "source": [
    "plt.hist(data['current'], bins =20, range=[0, 2000])"
   ]
  },
  {
   "cell_type": "code",
   "execution_count": null,
   "metadata": {
    "collapsed": true
   },
   "outputs": [],
   "source": []
  },
  {
   "cell_type": "code",
   "execution_count": null,
   "metadata": {
    "collapsed": true
   },
   "outputs": [],
   "source": []
  },
  {
   "cell_type": "code",
   "execution_count": null,
   "metadata": {
    "collapsed": false
   },
   "outputs": [],
   "source": []
  },
  {
   "cell_type": "code",
   "execution_count": null,
   "metadata": {
    "collapsed": false
   },
   "outputs": [],
   "source": []
  },
  {
   "cell_type": "code",
   "execution_count": null,
   "metadata": {
    "collapsed": false
   },
   "outputs": [],
   "source": []
  },
  {
   "cell_type": "code",
   "execution_count": null,
   "metadata": {
    "collapsed": true
   },
   "outputs": [],
   "source": []
  },
  {
   "cell_type": "code",
   "execution_count": null,
   "metadata": {
    "collapsed": true
   },
   "outputs": [],
   "source": []
  },
  {
   "cell_type": "code",
   "execution_count": null,
   "metadata": {
    "collapsed": true
   },
   "outputs": [],
   "source": []
  }
 ],
 "metadata": {
  "anaconda-cloud": {},
  "kernelspec": {
   "display_name": "Python [conda root]",
   "language": "python",
   "name": "conda-root-py"
  },
  "language_info": {
   "codemirror_mode": {
    "name": "ipython",
    "version": 2
   },
   "file_extension": ".py",
   "mimetype": "text/x-python",
   "name": "python",
   "nbconvert_exporter": "python",
   "pygments_lexer": "ipython2",
   "version": "2.7.12"
  }
 },
 "nbformat": 4,
 "nbformat_minor": 1
}
